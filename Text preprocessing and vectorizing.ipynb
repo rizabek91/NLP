{
 "cells": [
  {
   "cell_type": "markdown",
   "id": "ddcb38a2",
   "metadata": {},
   "source": [
    "# Text preprocessing and vectorizing"
   ]
  },
  {
   "cell_type": "markdown",
   "id": "453d956e",
   "metadata": {
    "heading_collapsed": true
   },
   "source": [
    "### Loading dataset"
   ]
  },
  {
   "cell_type": "code",
   "execution_count": 3,
   "id": "f9a5c836",
   "metadata": {
    "hidden": true
   },
   "outputs": [],
   "source": [
    "import pandas as pd\n",
    "poor = open(\"../dso-560-nlp-text-analytics-main/datasets/poor_amazon_toy_reviews.txt\", encoding=\"mbcs\").readlines()\n",
    "good = open(\"../dso-560-nlp-text-analytics-main/datasets/good_amazon_toy_reviews.txt\", encoding=\"mbcs\").readlines()"
   ]
  },
  {
   "cell_type": "code",
   "execution_count": 5,
   "id": "bf62478f",
   "metadata": {
    "hidden": true
   },
   "outputs": [],
   "source": [
    "good_reviews = list(map(lambda review: (review, 1), good))\n",
    "poor_reviews = list(map(lambda review: (review, 0), poor))"
   ]
  },
  {
   "cell_type": "code",
   "execution_count": 3,
   "id": "b0bfcdf7",
   "metadata": {
    "hidden": true
   },
   "outputs": [
    {
     "data": {
      "text/html": [
       "<div>\n",
       "<style scoped>\n",
       "    .dataframe tbody tr th:only-of-type {\n",
       "        vertical-align: middle;\n",
       "    }\n",
       "\n",
       "    .dataframe tbody tr th {\n",
       "        vertical-align: top;\n",
       "    }\n",
       "\n",
       "    .dataframe thead th {\n",
       "        text-align: right;\n",
       "    }\n",
       "</style>\n",
       "<table border=\"1\" class=\"dataframe\">\n",
       "  <thead>\n",
       "    <tr style=\"text-align: right;\">\n",
       "      <th></th>\n",
       "      <th>review</th>\n",
       "      <th>positive</th>\n",
       "    </tr>\n",
       "  </thead>\n",
       "  <tbody>\n",
       "    <tr>\n",
       "      <th>0</th>\n",
       "      <td>Excellent!!!\\n</td>\n",
       "      <td>1</td>\n",
       "    </tr>\n",
       "    <tr>\n",
       "      <th>1</th>\n",
       "      <td>\"Great quality wooden track (better than some ...</td>\n",
       "      <td>1</td>\n",
       "    </tr>\n",
       "    <tr>\n",
       "      <th>2</th>\n",
       "      <td>my daughter loved it and i liked the price and...</td>\n",
       "      <td>1</td>\n",
       "    </tr>\n",
       "    <tr>\n",
       "      <th>3</th>\n",
       "      <td>Great item. Pictures pop thru and add detail a...</td>\n",
       "      <td>1</td>\n",
       "    </tr>\n",
       "    <tr>\n",
       "      <th>4</th>\n",
       "      <td>I was pleased with the product.\\n</td>\n",
       "      <td>1</td>\n",
       "    </tr>\n",
       "  </tbody>\n",
       "</table>\n",
       "</div>"
      ],
      "text/plain": [
       "                                              review  positive\n",
       "0                                     Excellent!!!\\n         1\n",
       "1  \"Great quality wooden track (better than some ...         1\n",
       "2  my daughter loved it and i liked the price and...         1\n",
       "3  Great item. Pictures pop thru and add detail a...         1\n",
       "4                  I was pleased with the product.\\n         1"
      ]
     },
     "execution_count": 3,
     "metadata": {},
     "output_type": "execute_result"
    }
   ],
   "source": [
    "all_reviews = good_reviews + poor_reviews\n",
    "all_reviews_df = pd.DataFrame(all_reviews, columns=[\"review\", \"positive\"])\n",
    "all_reviews_df.head()"
   ]
  },
  {
   "cell_type": "markdown",
   "id": "c13aff66",
   "metadata": {
    "heading_collapsed": true
   },
   "source": [
    "### Clean up incorrect incorrect decodings."
   ]
  },
  {
   "cell_type": "code",
   "execution_count": 4,
   "id": "4bedc346",
   "metadata": {
    "hidden": true
   },
   "outputs": [],
   "source": [
    "for i in range(len(all_reviews_df)):\n",
    "    all_reviews_df.loc[i,'review'] = all_reviews_df.loc[i,'review'].lower()"
   ]
  },
  {
   "cell_type": "code",
   "execution_count": 5,
   "id": "b6678445",
   "metadata": {
    "hidden": true
   },
   "outputs": [
    {
     "data": {
      "text/plain": [
       "'great item. pictures pop thru and add detail as &#34;painted.&#34;  pictures dry and it can be repainted.\\n'"
      ]
     },
     "execution_count": 5,
     "metadata": {},
     "output_type": "execute_result"
    }
   ],
   "source": [
    "all_reviews_df['review'].iloc[3]"
   ]
  },
  {
   "cell_type": "code",
   "execution_count": 6,
   "id": "2137d28f",
   "metadata": {
    "hidden": true
   },
   "outputs": [],
   "source": [
    "all_reviews_df[\"review\"] = all_reviews_df[\"review\"].str.findall(r'\\b[^\\s\\d\\W]+\\b')"
   ]
  },
  {
   "cell_type": "code",
   "execution_count": 7,
   "id": "962046e0",
   "metadata": {
    "hidden": true
   },
   "outputs": [],
   "source": [
    "for i in range(len(all_reviews_df['review'])):\n",
    "    all_reviews_df.loc[i,'review']=' '.join(all_reviews_df.loc[i,'review'])"
   ]
  },
  {
   "cell_type": "code",
   "execution_count": 8,
   "id": "801e3e36",
   "metadata": {
    "hidden": true
   },
   "outputs": [
    {
     "data": {
      "text/html": [
       "<div>\n",
       "<style scoped>\n",
       "    .dataframe tbody tr th:only-of-type {\n",
       "        vertical-align: middle;\n",
       "    }\n",
       "\n",
       "    .dataframe tbody tr th {\n",
       "        vertical-align: top;\n",
       "    }\n",
       "\n",
       "    .dataframe thead th {\n",
       "        text-align: right;\n",
       "    }\n",
       "</style>\n",
       "<table border=\"1\" class=\"dataframe\">\n",
       "  <thead>\n",
       "    <tr style=\"text-align: right;\">\n",
       "      <th></th>\n",
       "      <th>review</th>\n",
       "      <th>positive</th>\n",
       "    </tr>\n",
       "  </thead>\n",
       "  <tbody>\n",
       "    <tr>\n",
       "      <th>0</th>\n",
       "      <td>excellent</td>\n",
       "      <td>1</td>\n",
       "    </tr>\n",
       "    <tr>\n",
       "      <th>1</th>\n",
       "      <td>great quality wooden track better than some ot...</td>\n",
       "      <td>1</td>\n",
       "    </tr>\n",
       "    <tr>\n",
       "      <th>2</th>\n",
       "      <td>my daughter loved it and i liked the price and...</td>\n",
       "      <td>1</td>\n",
       "    </tr>\n",
       "    <tr>\n",
       "      <th>3</th>\n",
       "      <td>great item pictures pop thru and add detail as...</td>\n",
       "      <td>1</td>\n",
       "    </tr>\n",
       "    <tr>\n",
       "      <th>4</th>\n",
       "      <td>i was pleased with the product</td>\n",
       "      <td>1</td>\n",
       "    </tr>\n",
       "    <tr>\n",
       "      <th>5</th>\n",
       "      <td>children like it</td>\n",
       "      <td>1</td>\n",
       "    </tr>\n",
       "    <tr>\n",
       "      <th>6</th>\n",
       "      <td>really liked these they were a little larger t...</td>\n",
       "      <td>1</td>\n",
       "    </tr>\n",
       "    <tr>\n",
       "      <th>7</th>\n",
       "      <td>nice huge balloon had my local grocery store f...</td>\n",
       "      <td>1</td>\n",
       "    </tr>\n",
       "    <tr>\n",
       "      <th>8</th>\n",
       "      <td>great deal</td>\n",
       "      <td>1</td>\n",
       "    </tr>\n",
       "    <tr>\n",
       "      <th>9</th>\n",
       "      <td>awesome thanks</td>\n",
       "      <td>1</td>\n",
       "    </tr>\n",
       "  </tbody>\n",
       "</table>\n",
       "</div>"
      ],
      "text/plain": [
       "                                              review  positive\n",
       "0                                          excellent         1\n",
       "1  great quality wooden track better than some ot...         1\n",
       "2  my daughter loved it and i liked the price and...         1\n",
       "3  great item pictures pop thru and add detail as...         1\n",
       "4                     i was pleased with the product         1\n",
       "5                                   children like it         1\n",
       "6  really liked these they were a little larger t...         1\n",
       "7  nice huge balloon had my local grocery store f...         1\n",
       "8                                         great deal         1\n",
       "9                                     awesome thanks         1"
      ]
     },
     "execution_count": 8,
     "metadata": {},
     "output_type": "execute_result"
    }
   ],
   "source": [
    "all_reviews_df.head(10)"
   ]
  },
  {
   "cell_type": "code",
   "execution_count": 9,
   "id": "6f240339",
   "metadata": {
    "hidden": true
   },
   "outputs": [],
   "source": [
    "# replace \\n and br\n",
    "all_reviews_df[\"review\"] =all_reviews_df[\"review\"].str.replace('\\n', '', case=False)\n",
    "all_reviews_df[\"review\"] =all_reviews_df[\"review\"].str.replace('br', '', case=False)"
   ]
  },
  {
   "cell_type": "code",
   "execution_count": 10,
   "id": "d488eaad",
   "metadata": {
    "hidden": true
   },
   "outputs": [
    {
     "data": {
      "text/plain": [
       "'great item pictures pop thru and add detail as painted pictures dry and it can be repainted'"
      ]
     },
     "execution_count": 10,
     "metadata": {},
     "output_type": "execute_result"
    }
   ],
   "source": [
    "all_reviews_df['review'].iloc[3]"
   ]
  },
  {
   "cell_type": "markdown",
   "id": "50957d52",
   "metadata": {
    "heading_collapsed": true
   },
   "source": [
    "###   Normalize all references to recipients using regex"
   ]
  },
  {
   "cell_type": "code",
   "execution_count": 11,
   "id": "8e6b87f0",
   "metadata": {
    "hidden": true
   },
   "outputs": [],
   "source": [
    "recipients = all_reviews_df[\"review\"].str.findall(r'\\bgift for (?:a|my) (\\w+ \\w+)\\b') "
   ]
  },
  {
   "cell_type": "code",
   "execution_count": 12,
   "id": "ee8d0936",
   "metadata": {
    "hidden": true
   },
   "outputs": [],
   "source": [
    "recipients = list(recipients)"
   ]
  },
  {
   "cell_type": "code",
   "execution_count": 13,
   "id": "11417a71",
   "metadata": {
    "hidden": true
   },
   "outputs": [],
   "source": [
    "flat_recipients = [item for sublist in recipients for item in sublist]"
   ]
  },
  {
   "cell_type": "code",
   "execution_count": 14,
   "id": "8eba893e",
   "metadata": {
    "hidden": true
   },
   "outputs": [
    {
     "data": {
      "text/plain": [
       "[('year old', 176),\n",
       " ('friend s', 25),\n",
       " ('granddaughter she', 24),\n",
       " ('son he', 20),\n",
       " ('yr old', 19),\n",
       " ('little girl', 18),\n",
       " ('friend and', 18),\n",
       " ('friend who', 16),\n",
       " ('grandson he', 14),\n",
       " ('daughter s', 14),\n",
       " ('nephew and', 14),\n",
       " ('daughter she', 12),\n",
       " ('daughter who', 11),\n",
       " ('niece she', 11),\n",
       " ('grandson who', 11),\n",
       " ('son and', 10),\n",
       " ('nephew he', 10),\n",
       " ('daughter and', 10),\n",
       " ('grand daughter', 10),\n",
       " ('two year', 10),\n",
       " ('friend he', 9),\n",
       " ('one year', 9),\n",
       " ('granddaughter s', 9),\n",
       " ('little one', 8),\n",
       " ('nephew who', 8),\n",
       " ('grandson and', 8),\n",
       " ('little boy', 8),\n",
       " ('child or', 7),\n",
       " ('granddaughter and', 7),\n",
       " ('four year', 7)]"
      ]
     },
     "execution_count": 14,
     "metadata": {},
     "output_type": "execute_result"
    }
   ],
   "source": [
    "#potential list of words\n",
    "from collections import Counter\n",
    "Counter(flat_recipients).most_common(30)"
   ]
  },
  {
   "cell_type": "code",
   "execution_count": 15,
   "id": "10507cf2",
   "metadata": {
    "hidden": true,
    "scrolled": true
   },
   "outputs": [],
   "source": [
    "# replacing recipients\n",
    "all_reviews_df[\"review\"] = all_reviews_df[\"review\"].str.replace(r'\\b(sons?|kids?|year olds?|friends?|grandson|daughters?\\\n",
    "    |granddaughter|grandson|child|someone|niece|nephew|little girl|little boy|two year old|two year old|three year old|four years old)\\b', '_Recipient_', case=False, regex=True)"
   ]
  },
  {
   "cell_type": "code",
   "execution_count": 16,
   "id": "6d40ba71",
   "metadata": {
    "hidden": true
   },
   "outputs": [],
   "source": [
    "# replace gift occasions\n",
    "all_reviews_df[\"review\"] = all_reviews_df[\"review\"].str.replace(r'\\bchristmas|xmas|birthdays|bday|anniversary|anniv\\b', '_occasions_', case=False, regex=True)"
   ]
  },
  {
   "cell_type": "markdown",
   "id": "fe3e9d88",
   "metadata": {
    "heading_collapsed": true
   },
   "source": [
    "### Vectorization"
   ]
  },
  {
   "cell_type": "code",
   "execution_count": 17,
   "id": "6f191008",
   "metadata": {
    "hidden": true
   },
   "outputs": [],
   "source": [
    "shapes = pd.DataFrame(columns = ['Vectoring Method', 'Shape'])\n",
    "\n",
    "#create function to vertorize and store shapes\n",
    "def vectorize(data, name, vectorizer):\n",
    "    shape = vectorizer.fit_transform(data).shape\n",
    "    shapes.loc[str(len(shapes)+1)] = [name, shape]\n",
    "    return shapes"
   ]
  },
  {
   "cell_type": "markdown",
   "id": "5db1d232",
   "metadata": {
    "hidden": true
   },
   "source": [
    "#### Count vectorizing with and without stopwords"
   ]
  },
  {
   "cell_type": "code",
   "execution_count": 18,
   "id": "2a9ce202",
   "metadata": {
    "hidden": true
   },
   "outputs": [],
   "source": [
    "from sklearn.feature_extraction.text import CountVectorizer"
   ]
  },
  {
   "cell_type": "code",
   "execution_count": 19,
   "id": "2a992b3c",
   "metadata": {
    "hidden": true
   },
   "outputs": [
    {
     "data": {
      "text/html": [
       "<div>\n",
       "<style scoped>\n",
       "    .dataframe tbody tr th:only-of-type {\n",
       "        vertical-align: middle;\n",
       "    }\n",
       "\n",
       "    .dataframe tbody tr th {\n",
       "        vertical-align: top;\n",
       "    }\n",
       "\n",
       "    .dataframe thead th {\n",
       "        text-align: right;\n",
       "    }\n",
       "</style>\n",
       "<table border=\"1\" class=\"dataframe\">\n",
       "  <thead>\n",
       "    <tr style=\"text-align: right;\">\n",
       "      <th></th>\n",
       "      <th>Vectoring Method</th>\n",
       "      <th>Shape</th>\n",
       "    </tr>\n",
       "  </thead>\n",
       "  <tbody>\n",
       "    <tr>\n",
       "      <th>1</th>\n",
       "      <td>count vect-ing without removing stopwords</td>\n",
       "      <td>(114917, 37131)</td>\n",
       "    </tr>\n",
       "  </tbody>\n",
       "</table>\n",
       "</div>"
      ],
      "text/plain": [
       "                            Vectoring Method            Shape\n",
       "1  count vect-ing without removing stopwords  (114917, 37131)"
      ]
     },
     "execution_count": 19,
     "metadata": {},
     "output_type": "execute_result"
    }
   ],
   "source": [
    "# count vectorizing review without removing stopwords\n",
    "\n",
    "vectorizer = CountVectorizer()\n",
    "vectorize(all_reviews_df.review, \"count vect-ing without removing stopwords\", vectorizer)"
   ]
  },
  {
   "cell_type": "code",
   "execution_count": 20,
   "id": "918e6e07",
   "metadata": {
    "hidden": true
   },
   "outputs": [
    {
     "data": {
      "text/html": [
       "<div>\n",
       "<style scoped>\n",
       "    .dataframe tbody tr th:only-of-type {\n",
       "        vertical-align: middle;\n",
       "    }\n",
       "\n",
       "    .dataframe tbody tr th {\n",
       "        vertical-align: top;\n",
       "    }\n",
       "\n",
       "    .dataframe thead th {\n",
       "        text-align: right;\n",
       "    }\n",
       "</style>\n",
       "<table border=\"1\" class=\"dataframe\">\n",
       "  <thead>\n",
       "    <tr style=\"text-align: right;\">\n",
       "      <th></th>\n",
       "      <th>Vectoring Method</th>\n",
       "      <th>Shape</th>\n",
       "    </tr>\n",
       "  </thead>\n",
       "  <tbody>\n",
       "    <tr>\n",
       "      <th>1</th>\n",
       "      <td>count vect-ing without removing stopwords</td>\n",
       "      <td>(114917, 37131)</td>\n",
       "    </tr>\n",
       "    <tr>\n",
       "      <th>2</th>\n",
       "      <td>count vect-ing with removing stopwords</td>\n",
       "      <td>(114917, 36828)</td>\n",
       "    </tr>\n",
       "  </tbody>\n",
       "</table>\n",
       "</div>"
      ],
      "text/plain": [
       "                            Vectoring Method            Shape\n",
       "1  count vect-ing without removing stopwords  (114917, 37131)\n",
       "2     count vect-ing with removing stopwords  (114917, 36828)"
      ]
     },
     "execution_count": 20,
     "metadata": {},
     "output_type": "execute_result"
    }
   ],
   "source": [
    "# vectorize review with removing stopwords\n",
    "\n",
    "vectorizer = CountVectorizer(stop_words=\"english\")\n",
    "vectorize(all_reviews_df.review, \"count vect-ing with removing stopwords\", vectorizer)"
   ]
  },
  {
   "cell_type": "markdown",
   "id": "01253c52",
   "metadata": {
    "hidden": true
   },
   "source": [
    "####  Count vectorizing with 1) no stemming or lemmatization, 2) stemming, 3) lemmatization"
   ]
  },
  {
   "cell_type": "code",
   "execution_count": 21,
   "id": "99441da6",
   "metadata": {
    "hidden": true
   },
   "outputs": [],
   "source": [
    "import nltk\n",
    "all_reviews_df['tokenized_review'] = all_reviews_df.apply(lambda row: nltk.word_tokenize(row['review']), axis=1)"
   ]
  },
  {
   "cell_type": "code",
   "execution_count": 22,
   "id": "7b487d64",
   "metadata": {
    "hidden": true
   },
   "outputs": [
    {
     "data": {
      "text/html": [
       "<div>\n",
       "<style scoped>\n",
       "    .dataframe tbody tr th:only-of-type {\n",
       "        vertical-align: middle;\n",
       "    }\n",
       "\n",
       "    .dataframe tbody tr th {\n",
       "        vertical-align: top;\n",
       "    }\n",
       "\n",
       "    .dataframe thead th {\n",
       "        text-align: right;\n",
       "    }\n",
       "</style>\n",
       "<table border=\"1\" class=\"dataframe\">\n",
       "  <thead>\n",
       "    <tr style=\"text-align: right;\">\n",
       "      <th></th>\n",
       "      <th>review</th>\n",
       "      <th>positive</th>\n",
       "      <th>tokenized_review</th>\n",
       "    </tr>\n",
       "  </thead>\n",
       "  <tbody>\n",
       "    <tr>\n",
       "      <th>0</th>\n",
       "      <td>excellent</td>\n",
       "      <td>1</td>\n",
       "      <td>[excellent]</td>\n",
       "    </tr>\n",
       "    <tr>\n",
       "      <th>1</th>\n",
       "      <td>great quality wooden track better than some ot...</td>\n",
       "      <td>1</td>\n",
       "      <td>[great, quality, wooden, track, better, than, ...</td>\n",
       "    </tr>\n",
       "    <tr>\n",
       "      <th>2</th>\n",
       "      <td>my daughter loved it and i liked the price and...</td>\n",
       "      <td>1</td>\n",
       "      <td>[my, daughter, loved, it, and, i, liked, the, ...</td>\n",
       "    </tr>\n",
       "    <tr>\n",
       "      <th>3</th>\n",
       "      <td>great item pictures pop thru and add detail as...</td>\n",
       "      <td>1</td>\n",
       "      <td>[great, item, pictures, pop, thru, and, add, d...</td>\n",
       "    </tr>\n",
       "    <tr>\n",
       "      <th>4</th>\n",
       "      <td>i was pleased with the product</td>\n",
       "      <td>1</td>\n",
       "      <td>[i, was, pleased, with, the, product]</td>\n",
       "    </tr>\n",
       "    <tr>\n",
       "      <th>...</th>\n",
       "      <td>...</td>\n",
       "      <td>...</td>\n",
       "      <td>...</td>\n",
       "    </tr>\n",
       "    <tr>\n",
       "      <th>114912</th>\n",
       "      <td>it s a piece of junk doesn t charge multiple b...</td>\n",
       "      <td>0</td>\n",
       "      <td>[it, s, a, piece, of, junk, doesn, t, charge, ...</td>\n",
       "    </tr>\n",
       "    <tr>\n",
       "      <th>114913</th>\n",
       "      <td>really small</td>\n",
       "      <td>0</td>\n",
       "      <td>[really, small]</td>\n",
       "    </tr>\n",
       "    <tr>\n",
       "      <th>114914</th>\n",
       "      <td>it is contained in glass which is dangerous if...</td>\n",
       "      <td>0</td>\n",
       "      <td>[it, is, contained, in, glass, which, is, dang...</td>\n",
       "    </tr>\n",
       "    <tr>\n",
       "      <th>114915</th>\n",
       "      <td>fake not original every time my yr old _Recipi...</td>\n",
       "      <td>0</td>\n",
       "      <td>[fake, not, original, every, time, my, yr, old...</td>\n",
       "    </tr>\n",
       "    <tr>\n",
       "      <th>114916</th>\n",
       "      <td>poor quality</td>\n",
       "      <td>0</td>\n",
       "      <td>[poor, quality]</td>\n",
       "    </tr>\n",
       "  </tbody>\n",
       "</table>\n",
       "<p>114917 rows × 3 columns</p>\n",
       "</div>"
      ],
      "text/plain": [
       "                                                   review  positive  \\\n",
       "0                                               excellent         1   \n",
       "1       great quality wooden track better than some ot...         1   \n",
       "2       my daughter loved it and i liked the price and...         1   \n",
       "3       great item pictures pop thru and add detail as...         1   \n",
       "4                          i was pleased with the product         1   \n",
       "...                                                   ...       ...   \n",
       "114912  it s a piece of junk doesn t charge multiple b...         0   \n",
       "114913                                       really small         0   \n",
       "114914  it is contained in glass which is dangerous if...         0   \n",
       "114915  fake not original every time my yr old _Recipi...         0   \n",
       "114916                                       poor quality         0   \n",
       "\n",
       "                                         tokenized_review  \n",
       "0                                             [excellent]  \n",
       "1       [great, quality, wooden, track, better, than, ...  \n",
       "2       [my, daughter, loved, it, and, i, liked, the, ...  \n",
       "3       [great, item, pictures, pop, thru, and, add, d...  \n",
       "4                   [i, was, pleased, with, the, product]  \n",
       "...                                                   ...  \n",
       "114912  [it, s, a, piece, of, junk, doesn, t, charge, ...  \n",
       "114913                                    [really, small]  \n",
       "114914  [it, is, contained, in, glass, which, is, dang...  \n",
       "114915  [fake, not, original, every, time, my, yr, old...  \n",
       "114916                                    [poor, quality]  \n",
       "\n",
       "[114917 rows x 3 columns]"
      ]
     },
     "execution_count": 22,
     "metadata": {},
     "output_type": "execute_result"
    }
   ],
   "source": [
    "all_reviews_df"
   ]
  },
  {
   "cell_type": "code",
   "execution_count": 23,
   "id": "d6a990bb",
   "metadata": {
    "hidden": true
   },
   "outputs": [],
   "source": [
    "import numpy as np\n",
    "all_reviews_df['tokenized_review1'] = np.NAN"
   ]
  },
  {
   "cell_type": "code",
   "execution_count": 28,
   "id": "e43aa119",
   "metadata": {
    "hidden": true
   },
   "outputs": [
    {
     "data": {
      "text/html": [
       "<div>\n",
       "<style scoped>\n",
       "    .dataframe tbody tr th:only-of-type {\n",
       "        vertical-align: middle;\n",
       "    }\n",
       "\n",
       "    .dataframe tbody tr th {\n",
       "        vertical-align: top;\n",
       "    }\n",
       "\n",
       "    .dataframe thead th {\n",
       "        text-align: right;\n",
       "    }\n",
       "</style>\n",
       "<table border=\"1\" class=\"dataframe\">\n",
       "  <thead>\n",
       "    <tr style=\"text-align: right;\">\n",
       "      <th></th>\n",
       "      <th>review</th>\n",
       "      <th>positive</th>\n",
       "      <th>tokenized_review</th>\n",
       "      <th>tokenized_review1</th>\n",
       "    </tr>\n",
       "  </thead>\n",
       "  <tbody>\n",
       "    <tr>\n",
       "      <th>0</th>\n",
       "      <td>excellent</td>\n",
       "      <td>1</td>\n",
       "      <td>[excellent]</td>\n",
       "      <td>excellent</td>\n",
       "    </tr>\n",
       "    <tr>\n",
       "      <th>1</th>\n",
       "      <td>great quality wooden track better than some ot...</td>\n",
       "      <td>1</td>\n",
       "      <td>[great, quality, wooden, track, better, than, ...</td>\n",
       "      <td>great quality wooden track better than some ot...</td>\n",
       "    </tr>\n",
       "    <tr>\n",
       "      <th>2</th>\n",
       "      <td>my daughter loved it and i liked the price and...</td>\n",
       "      <td>1</td>\n",
       "      <td>[my, daughter, loved, it, and, i, liked, the, ...</td>\n",
       "      <td>my daughter loved it and i liked the price and...</td>\n",
       "    </tr>\n",
       "    <tr>\n",
       "      <th>3</th>\n",
       "      <td>great item pictures pop thru and add detail as...</td>\n",
       "      <td>1</td>\n",
       "      <td>[great, item, pictures, pop, thru, and, add, d...</td>\n",
       "      <td>great item pictures pop thru and add detail as...</td>\n",
       "    </tr>\n",
       "    <tr>\n",
       "      <th>4</th>\n",
       "      <td>i was pleased with the product</td>\n",
       "      <td>1</td>\n",
       "      <td>[i, was, pleased, with, the, product]</td>\n",
       "      <td>i was pleased with the product</td>\n",
       "    </tr>\n",
       "    <tr>\n",
       "      <th>...</th>\n",
       "      <td>...</td>\n",
       "      <td>...</td>\n",
       "      <td>...</td>\n",
       "      <td>...</td>\n",
       "    </tr>\n",
       "    <tr>\n",
       "      <th>114912</th>\n",
       "      <td>it s a piece of junk doesn t charge multiple b...</td>\n",
       "      <td>0</td>\n",
       "      <td>[it, s, a, piece, of, junk, doesn, t, charge, ...</td>\n",
       "      <td>it s a piece of junk doesn t charge multiple b...</td>\n",
       "    </tr>\n",
       "    <tr>\n",
       "      <th>114913</th>\n",
       "      <td>really small</td>\n",
       "      <td>0</td>\n",
       "      <td>[really, small]</td>\n",
       "      <td>really small</td>\n",
       "    </tr>\n",
       "    <tr>\n",
       "      <th>114914</th>\n",
       "      <td>it is contained in glass which is dangerous if...</td>\n",
       "      <td>0</td>\n",
       "      <td>[it, is, contained, in, glass, which, is, dang...</td>\n",
       "      <td>it is contained in glass which is dangerous if...</td>\n",
       "    </tr>\n",
       "    <tr>\n",
       "      <th>114915</th>\n",
       "      <td>fake not original every time my yr old _Recipi...</td>\n",
       "      <td>0</td>\n",
       "      <td>[fake, not, original, every, time, my, yr, old...</td>\n",
       "      <td>fake not original every time my yr old _Recipi...</td>\n",
       "    </tr>\n",
       "    <tr>\n",
       "      <th>114916</th>\n",
       "      <td>poor quality</td>\n",
       "      <td>0</td>\n",
       "      <td>[poor, quality]</td>\n",
       "      <td>poor quality</td>\n",
       "    </tr>\n",
       "  </tbody>\n",
       "</table>\n",
       "<p>114917 rows × 4 columns</p>\n",
       "</div>"
      ],
      "text/plain": [
       "                                                   review  positive  \\\n",
       "0                                               excellent         1   \n",
       "1       great quality wooden track better than some ot...         1   \n",
       "2       my daughter loved it and i liked the price and...         1   \n",
       "3       great item pictures pop thru and add detail as...         1   \n",
       "4                          i was pleased with the product         1   \n",
       "...                                                   ...       ...   \n",
       "114912  it s a piece of junk doesn t charge multiple b...         0   \n",
       "114913                                       really small         0   \n",
       "114914  it is contained in glass which is dangerous if...         0   \n",
       "114915  fake not original every time my yr old _Recipi...         0   \n",
       "114916                                       poor quality         0   \n",
       "\n",
       "                                         tokenized_review  \\\n",
       "0                                             [excellent]   \n",
       "1       [great, quality, wooden, track, better, than, ...   \n",
       "2       [my, daughter, loved, it, and, i, liked, the, ...   \n",
       "3       [great, item, pictures, pop, thru, and, add, d...   \n",
       "4                   [i, was, pleased, with, the, product]   \n",
       "...                                                   ...   \n",
       "114912  [it, s, a, piece, of, junk, doesn, t, charge, ...   \n",
       "114913                                    [really, small]   \n",
       "114914  [it, is, contained, in, glass, which, is, dang...   \n",
       "114915  [fake, not, original, every, time, my, yr, old...   \n",
       "114916                                    [poor, quality]   \n",
       "\n",
       "                                        tokenized_review1  \n",
       "0                                               excellent  \n",
       "1       great quality wooden track better than some ot...  \n",
       "2       my daughter loved it and i liked the price and...  \n",
       "3       great item pictures pop thru and add detail as...  \n",
       "4                          i was pleased with the product  \n",
       "...                                                   ...  \n",
       "114912  it s a piece of junk doesn t charge multiple b...  \n",
       "114913                                       really small  \n",
       "114914  it is contained in glass which is dangerous if...  \n",
       "114915  fake not original every time my yr old _Recipi...  \n",
       "114916                                       poor quality  \n",
       "\n",
       "[114917 rows x 4 columns]"
      ]
     },
     "execution_count": 28,
     "metadata": {},
     "output_type": "execute_result"
    }
   ],
   "source": [
    "all_reviews_df"
   ]
  },
  {
   "cell_type": "code",
   "execution_count": 24,
   "id": "0c51ec0b",
   "metadata": {
    "hidden": true
   },
   "outputs": [],
   "source": [
    "for i in range(len(all_reviews_df['tokenized_review'])):\n",
    "    all_reviews_df.loc[i,'tokenized_review1']=' '.join(all_reviews_df.loc[i,'tokenized_review'])"
   ]
  },
  {
   "cell_type": "code",
   "execution_count": 25,
   "id": "587ea2f1",
   "metadata": {
    "hidden": true
   },
   "outputs": [
    {
     "data": {
      "text/html": [
       "<div>\n",
       "<style scoped>\n",
       "    .dataframe tbody tr th:only-of-type {\n",
       "        vertical-align: middle;\n",
       "    }\n",
       "\n",
       "    .dataframe tbody tr th {\n",
       "        vertical-align: top;\n",
       "    }\n",
       "\n",
       "    .dataframe thead th {\n",
       "        text-align: right;\n",
       "    }\n",
       "</style>\n",
       "<table border=\"1\" class=\"dataframe\">\n",
       "  <thead>\n",
       "    <tr style=\"text-align: right;\">\n",
       "      <th></th>\n",
       "      <th>Vectoring Method</th>\n",
       "      <th>Shape</th>\n",
       "    </tr>\n",
       "  </thead>\n",
       "  <tbody>\n",
       "    <tr>\n",
       "      <th>1</th>\n",
       "      <td>count vect-ing without removing stopwords</td>\n",
       "      <td>(114917, 37131)</td>\n",
       "    </tr>\n",
       "    <tr>\n",
       "      <th>2</th>\n",
       "      <td>count vect-ing with removing stopwords</td>\n",
       "      <td>(114917, 36828)</td>\n",
       "    </tr>\n",
       "    <tr>\n",
       "      <th>3</th>\n",
       "      <td>count vect-ing tokenized without stemming and ...</td>\n",
       "      <td>(114917, 37127)</td>\n",
       "    </tr>\n",
       "  </tbody>\n",
       "</table>\n",
       "</div>"
      ],
      "text/plain": [
       "                                    Vectoring Method            Shape\n",
       "1          count vect-ing without removing stopwords  (114917, 37131)\n",
       "2             count vect-ing with removing stopwords  (114917, 36828)\n",
       "3  count vect-ing tokenized without stemming and ...  (114917, 37127)"
      ]
     },
     "execution_count": 25,
     "metadata": {},
     "output_type": "execute_result"
    }
   ],
   "source": [
    "# vectorize tokenized but without stemming and lemmatization\n",
    "vectorizer = CountVectorizer()\n",
    "vectorize(all_reviews_df.tokenized_review1, \"count vect-ing tokenized without stemming and lemmatization\", vectorizer)"
   ]
  },
  {
   "cell_type": "code",
   "execution_count": 26,
   "id": "2222c561",
   "metadata": {
    "hidden": true
   },
   "outputs": [],
   "source": [
    "from nltk.stem.porter import *\n",
    "stemmer = PorterStemmer()"
   ]
  },
  {
   "cell_type": "code",
   "execution_count": 29,
   "id": "f1bf75c3",
   "metadata": {
    "hidden": true
   },
   "outputs": [],
   "source": [
    "all_reviews_df['stemmed'] = all_reviews_df['tokenized_review'].apply(lambda x: [stemmer.stem(y) for y in x])"
   ]
  },
  {
   "cell_type": "code",
   "execution_count": 30,
   "id": "e28e4847",
   "metadata": {
    "hidden": true
   },
   "outputs": [],
   "source": [
    "for i in range(len(all_reviews_df['stemmed'])):\n",
    "    all_reviews_df.loc[i,'stemmed']=' '.join(all_reviews_df.loc[i,'stemmed'])"
   ]
  },
  {
   "cell_type": "code",
   "execution_count": 31,
   "id": "a743231a",
   "metadata": {
    "hidden": true
   },
   "outputs": [
    {
     "data": {
      "text/html": [
       "<div>\n",
       "<style scoped>\n",
       "    .dataframe tbody tr th:only-of-type {\n",
       "        vertical-align: middle;\n",
       "    }\n",
       "\n",
       "    .dataframe tbody tr th {\n",
       "        vertical-align: top;\n",
       "    }\n",
       "\n",
       "    .dataframe thead th {\n",
       "        text-align: right;\n",
       "    }\n",
       "</style>\n",
       "<table border=\"1\" class=\"dataframe\">\n",
       "  <thead>\n",
       "    <tr style=\"text-align: right;\">\n",
       "      <th></th>\n",
       "      <th>Vectoring Method</th>\n",
       "      <th>Shape</th>\n",
       "    </tr>\n",
       "  </thead>\n",
       "  <tbody>\n",
       "    <tr>\n",
       "      <th>1</th>\n",
       "      <td>count vect-ing without removing stopwords</td>\n",
       "      <td>(114917, 37131)</td>\n",
       "    </tr>\n",
       "    <tr>\n",
       "      <th>2</th>\n",
       "      <td>count vect-ing with removing stopwords</td>\n",
       "      <td>(114917, 36828)</td>\n",
       "    </tr>\n",
       "    <tr>\n",
       "      <th>3</th>\n",
       "      <td>count vect-ing tokenized without stemming and ...</td>\n",
       "      <td>(114917, 37127)</td>\n",
       "    </tr>\n",
       "    <tr>\n",
       "      <th>4</th>\n",
       "      <td>count vectorize with stemmingg</td>\n",
       "      <td>(114917, 25350)</td>\n",
       "    </tr>\n",
       "  </tbody>\n",
       "</table>\n",
       "</div>"
      ],
      "text/plain": [
       "                                    Vectoring Method            Shape\n",
       "1          count vect-ing without removing stopwords  (114917, 37131)\n",
       "2             count vect-ing with removing stopwords  (114917, 36828)\n",
       "3  count vect-ing tokenized without stemming and ...  (114917, 37127)\n",
       "4                     count vectorize with stemmingg  (114917, 25350)"
      ]
     },
     "execution_count": 31,
     "metadata": {},
     "output_type": "execute_result"
    }
   ],
   "source": [
    "# vectorize with stemming\n",
    "vectorizer = CountVectorizer()\n",
    "vectorize(all_reviews_df.stemmed, \"count vectorize with stemmingg\", vectorizer)"
   ]
  },
  {
   "cell_type": "code",
   "execution_count": 32,
   "id": "b27a6aab",
   "metadata": {
    "hidden": true
   },
   "outputs": [],
   "source": [
    "from nltk.stem import WordNetLemmatizer\n",
    "lemmatizer = WordNetLemmatizer()\n",
    "all_reviews_df['Lemmatized'] = all_reviews_df['tokenized_review'].apply(lambda x: [lemmatizer.lemmatize(y) for y in x])"
   ]
  },
  {
   "cell_type": "code",
   "execution_count": 33,
   "id": "e5f06e9d",
   "metadata": {
    "hidden": true
   },
   "outputs": [],
   "source": [
    "for i in range(len(all_reviews_df['Lemmatized'])):\n",
    "    all_reviews_df.loc[i,'Lemmatized']=' '.join(all_reviews_df.loc[i,'Lemmatized'])"
   ]
  },
  {
   "cell_type": "code",
   "execution_count": 34,
   "id": "9f9c1494",
   "metadata": {
    "hidden": true
   },
   "outputs": [
    {
     "data": {
      "text/html": [
       "<div>\n",
       "<style scoped>\n",
       "    .dataframe tbody tr th:only-of-type {\n",
       "        vertical-align: middle;\n",
       "    }\n",
       "\n",
       "    .dataframe tbody tr th {\n",
       "        vertical-align: top;\n",
       "    }\n",
       "\n",
       "    .dataframe thead th {\n",
       "        text-align: right;\n",
       "    }\n",
       "</style>\n",
       "<table border=\"1\" class=\"dataframe\">\n",
       "  <thead>\n",
       "    <tr style=\"text-align: right;\">\n",
       "      <th></th>\n",
       "      <th>Vectoring Method</th>\n",
       "      <th>Shape</th>\n",
       "    </tr>\n",
       "  </thead>\n",
       "  <tbody>\n",
       "    <tr>\n",
       "      <th>1</th>\n",
       "      <td>count vect-ing without removing stopwords</td>\n",
       "      <td>(114917, 37131)</td>\n",
       "    </tr>\n",
       "    <tr>\n",
       "      <th>2</th>\n",
       "      <td>count vect-ing with removing stopwords</td>\n",
       "      <td>(114917, 36828)</td>\n",
       "    </tr>\n",
       "    <tr>\n",
       "      <th>3</th>\n",
       "      <td>count vect-ing tokenized without stemming and ...</td>\n",
       "      <td>(114917, 37127)</td>\n",
       "    </tr>\n",
       "    <tr>\n",
       "      <th>4</th>\n",
       "      <td>count vectorize with stemmingg</td>\n",
       "      <td>(114917, 25350)</td>\n",
       "    </tr>\n",
       "    <tr>\n",
       "      <th>5</th>\n",
       "      <td>count vectorize with lemmatization</td>\n",
       "      <td>(114917, 32898)</td>\n",
       "    </tr>\n",
       "  </tbody>\n",
       "</table>\n",
       "</div>"
      ],
      "text/plain": [
       "                                    Vectoring Method            Shape\n",
       "1          count vect-ing without removing stopwords  (114917, 37131)\n",
       "2             count vect-ing with removing stopwords  (114917, 36828)\n",
       "3  count vect-ing tokenized without stemming and ...  (114917, 37127)\n",
       "4                     count vectorize with stemmingg  (114917, 25350)\n",
       "5                 count vectorize with lemmatization  (114917, 32898)"
      ]
     },
     "execution_count": 34,
     "metadata": {},
     "output_type": "execute_result"
    }
   ],
   "source": [
    "# vectorize with lemmatization\n",
    "vectorizer = CountVectorizer()\n",
    "vectorize(all_reviews_df.Lemmatized, \"count vectorize with lemmatization\", vectorizer)"
   ]
  },
  {
   "cell_type": "markdown",
   "id": "9d819430",
   "metadata": {
    "hidden": true
   },
   "source": [
    "#### TfIdfVectorizer versus CountVectorizer"
   ]
  },
  {
   "cell_type": "code",
   "execution_count": 35,
   "id": "04f63cea",
   "metadata": {
    "hidden": true
   },
   "outputs": [
    {
     "data": {
      "text/html": [
       "<div>\n",
       "<style scoped>\n",
       "    .dataframe tbody tr th:only-of-type {\n",
       "        vertical-align: middle;\n",
       "    }\n",
       "\n",
       "    .dataframe tbody tr th {\n",
       "        vertical-align: top;\n",
       "    }\n",
       "\n",
       "    .dataframe thead th {\n",
       "        text-align: right;\n",
       "    }\n",
       "</style>\n",
       "<table border=\"1\" class=\"dataframe\">\n",
       "  <thead>\n",
       "    <tr style=\"text-align: right;\">\n",
       "      <th></th>\n",
       "      <th>Vectoring Method</th>\n",
       "      <th>Shape</th>\n",
       "    </tr>\n",
       "  </thead>\n",
       "  <tbody>\n",
       "    <tr>\n",
       "      <th>1</th>\n",
       "      <td>count vect-ing without removing stopwords</td>\n",
       "      <td>(114917, 37131)</td>\n",
       "    </tr>\n",
       "    <tr>\n",
       "      <th>2</th>\n",
       "      <td>count vect-ing with removing stopwords</td>\n",
       "      <td>(114917, 36828)</td>\n",
       "    </tr>\n",
       "    <tr>\n",
       "      <th>3</th>\n",
       "      <td>count vect-ing tokenized without stemming and ...</td>\n",
       "      <td>(114917, 37127)</td>\n",
       "    </tr>\n",
       "    <tr>\n",
       "      <th>4</th>\n",
       "      <td>count vectorize with stemmingg</td>\n",
       "      <td>(114917, 25350)</td>\n",
       "    </tr>\n",
       "    <tr>\n",
       "      <th>5</th>\n",
       "      <td>count vectorize with lemmatization</td>\n",
       "      <td>(114917, 32898)</td>\n",
       "    </tr>\n",
       "    <tr>\n",
       "      <th>6</th>\n",
       "      <td>count vect-ing</td>\n",
       "      <td>(114917, 37131)</td>\n",
       "    </tr>\n",
       "  </tbody>\n",
       "</table>\n",
       "</div>"
      ],
      "text/plain": [
       "                                    Vectoring Method            Shape\n",
       "1          count vect-ing without removing stopwords  (114917, 37131)\n",
       "2             count vect-ing with removing stopwords  (114917, 36828)\n",
       "3  count vect-ing tokenized without stemming and ...  (114917, 37127)\n",
       "4                     count vectorize with stemmingg  (114917, 25350)\n",
       "5                 count vectorize with lemmatization  (114917, 32898)\n",
       "6                                     count vect-ing  (114917, 37131)"
      ]
     },
     "execution_count": 35,
     "metadata": {},
     "output_type": "execute_result"
    }
   ],
   "source": [
    "# count vectorize review without removing stopwords\n",
    "\n",
    "vectorizer = CountVectorizer()\n",
    "vectorize(all_reviews_df.review, \"count vect-ing\", vectorizer)"
   ]
  },
  {
   "cell_type": "code",
   "execution_count": 36,
   "id": "bfc2664d",
   "metadata": {
    "hidden": true
   },
   "outputs": [
    {
     "data": {
      "text/html": [
       "<div>\n",
       "<style scoped>\n",
       "    .dataframe tbody tr th:only-of-type {\n",
       "        vertical-align: middle;\n",
       "    }\n",
       "\n",
       "    .dataframe tbody tr th {\n",
       "        vertical-align: top;\n",
       "    }\n",
       "\n",
       "    .dataframe thead th {\n",
       "        text-align: right;\n",
       "    }\n",
       "</style>\n",
       "<table border=\"1\" class=\"dataframe\">\n",
       "  <thead>\n",
       "    <tr style=\"text-align: right;\">\n",
       "      <th></th>\n",
       "      <th>Vectoring Method</th>\n",
       "      <th>Shape</th>\n",
       "    </tr>\n",
       "  </thead>\n",
       "  <tbody>\n",
       "    <tr>\n",
       "      <th>1</th>\n",
       "      <td>count vect-ing without removing stopwords</td>\n",
       "      <td>(114917, 37131)</td>\n",
       "    </tr>\n",
       "    <tr>\n",
       "      <th>2</th>\n",
       "      <td>count vect-ing with removing stopwords</td>\n",
       "      <td>(114917, 36828)</td>\n",
       "    </tr>\n",
       "    <tr>\n",
       "      <th>3</th>\n",
       "      <td>count vect-ing tokenized without stemming and ...</td>\n",
       "      <td>(114917, 37127)</td>\n",
       "    </tr>\n",
       "    <tr>\n",
       "      <th>4</th>\n",
       "      <td>count vectorize with stemmingg</td>\n",
       "      <td>(114917, 25350)</td>\n",
       "    </tr>\n",
       "    <tr>\n",
       "      <th>5</th>\n",
       "      <td>count vectorize with lemmatization</td>\n",
       "      <td>(114917, 32898)</td>\n",
       "    </tr>\n",
       "    <tr>\n",
       "      <th>6</th>\n",
       "      <td>count vect-ing</td>\n",
       "      <td>(114917, 37131)</td>\n",
       "    </tr>\n",
       "    <tr>\n",
       "      <th>7</th>\n",
       "      <td>TfIdfVectorizer vectorize vect-ing</td>\n",
       "      <td>(114917, 37131)</td>\n",
       "    </tr>\n",
       "  </tbody>\n",
       "</table>\n",
       "</div>"
      ],
      "text/plain": [
       "                                    Vectoring Method            Shape\n",
       "1          count vect-ing without removing stopwords  (114917, 37131)\n",
       "2             count vect-ing with removing stopwords  (114917, 36828)\n",
       "3  count vect-ing tokenized without stemming and ...  (114917, 37127)\n",
       "4                     count vectorize with stemmingg  (114917, 25350)\n",
       "5                 count vectorize with lemmatization  (114917, 32898)\n",
       "6                                     count vect-ing  (114917, 37131)\n",
       "7                 TfIdfVectorizer vectorize vect-ing  (114917, 37131)"
      ]
     },
     "execution_count": 36,
     "metadata": {},
     "output_type": "execute_result"
    }
   ],
   "source": [
    "#  TfIdfVectorizer vectorize review without removing stopwords\n",
    "from sklearn.feature_extraction.text import TfidfVectorizer\n",
    "vectorizer = TfidfVectorizer(ngram_range=(1,1))\n",
    "vectorize(all_reviews_df.review, \"TfIdfVectorizer vectorize vect-ing\", vectorizer)"
   ]
  },
  {
   "cell_type": "markdown",
   "id": "9971b06e",
   "metadata": {
    "hidden": true
   },
   "source": [
    "#### ngram sizes of 1, 2, and 3"
   ]
  },
  {
   "cell_type": "code",
   "execution_count": 37,
   "id": "7ab47ba6",
   "metadata": {
    "hidden": true
   },
   "outputs": [
    {
     "data": {
      "text/html": [
       "<div>\n",
       "<style scoped>\n",
       "    .dataframe tbody tr th:only-of-type {\n",
       "        vertical-align: middle;\n",
       "    }\n",
       "\n",
       "    .dataframe tbody tr th {\n",
       "        vertical-align: top;\n",
       "    }\n",
       "\n",
       "    .dataframe thead th {\n",
       "        text-align: right;\n",
       "    }\n",
       "</style>\n",
       "<table border=\"1\" class=\"dataframe\">\n",
       "  <thead>\n",
       "    <tr style=\"text-align: right;\">\n",
       "      <th></th>\n",
       "      <th>Vectoring Method</th>\n",
       "      <th>Shape</th>\n",
       "    </tr>\n",
       "  </thead>\n",
       "  <tbody>\n",
       "    <tr>\n",
       "      <th>1</th>\n",
       "      <td>count vect-ing without removing stopwords</td>\n",
       "      <td>(114917, 37131)</td>\n",
       "    </tr>\n",
       "    <tr>\n",
       "      <th>2</th>\n",
       "      <td>count vect-ing with removing stopwords</td>\n",
       "      <td>(114917, 36828)</td>\n",
       "    </tr>\n",
       "    <tr>\n",
       "      <th>3</th>\n",
       "      <td>count vect-ing tokenized without stemming and ...</td>\n",
       "      <td>(114917, 37127)</td>\n",
       "    </tr>\n",
       "    <tr>\n",
       "      <th>4</th>\n",
       "      <td>count vectorize with stemmingg</td>\n",
       "      <td>(114917, 25350)</td>\n",
       "    </tr>\n",
       "    <tr>\n",
       "      <th>5</th>\n",
       "      <td>count vectorize with lemmatization</td>\n",
       "      <td>(114917, 32898)</td>\n",
       "    </tr>\n",
       "    <tr>\n",
       "      <th>6</th>\n",
       "      <td>count vect-ing</td>\n",
       "      <td>(114917, 37131)</td>\n",
       "    </tr>\n",
       "    <tr>\n",
       "      <th>7</th>\n",
       "      <td>TfIdfVectorizer vectorize vect-ing</td>\n",
       "      <td>(114917, 37131)</td>\n",
       "    </tr>\n",
       "    <tr>\n",
       "      <th>8</th>\n",
       "      <td>TfIdfVectorizer vectorize vect-ing (1,1)</td>\n",
       "      <td>(114917, 37131)</td>\n",
       "    </tr>\n",
       "  </tbody>\n",
       "</table>\n",
       "</div>"
      ],
      "text/plain": [
       "                                    Vectoring Method            Shape\n",
       "1          count vect-ing without removing stopwords  (114917, 37131)\n",
       "2             count vect-ing with removing stopwords  (114917, 36828)\n",
       "3  count vect-ing tokenized without stemming and ...  (114917, 37127)\n",
       "4                     count vectorize with stemmingg  (114917, 25350)\n",
       "5                 count vectorize with lemmatization  (114917, 32898)\n",
       "6                                     count vect-ing  (114917, 37131)\n",
       "7                 TfIdfVectorizer vectorize vect-ing  (114917, 37131)\n",
       "8           TfIdfVectorizer vectorize vect-ing (1,1)  (114917, 37131)"
      ]
     },
     "execution_count": 37,
     "metadata": {},
     "output_type": "execute_result"
    }
   ],
   "source": [
    "#  TfIdfVectorizer (1,1) vectorize review without removing stopwords\n",
    "from sklearn.feature_extraction.text import TfidfVectorizer\n",
    "\n",
    "vectorizer = TfidfVectorizer(ngram_range=(1,1))\n",
    "vectorize(all_reviews_df.review, \"TfIdfVectorizer vectorize vect-ing (1,1)\", vectorizer)"
   ]
  },
  {
   "cell_type": "code",
   "execution_count": 38,
   "id": "9e26aaa1",
   "metadata": {
    "hidden": true
   },
   "outputs": [
    {
     "data": {
      "text/html": [
       "<div>\n",
       "<style scoped>\n",
       "    .dataframe tbody tr th:only-of-type {\n",
       "        vertical-align: middle;\n",
       "    }\n",
       "\n",
       "    .dataframe tbody tr th {\n",
       "        vertical-align: top;\n",
       "    }\n",
       "\n",
       "    .dataframe thead th {\n",
       "        text-align: right;\n",
       "    }\n",
       "</style>\n",
       "<table border=\"1\" class=\"dataframe\">\n",
       "  <thead>\n",
       "    <tr style=\"text-align: right;\">\n",
       "      <th></th>\n",
       "      <th>Vectoring Method</th>\n",
       "      <th>Shape</th>\n",
       "    </tr>\n",
       "  </thead>\n",
       "  <tbody>\n",
       "    <tr>\n",
       "      <th>1</th>\n",
       "      <td>count vect-ing without removing stopwords</td>\n",
       "      <td>(114917, 37131)</td>\n",
       "    </tr>\n",
       "    <tr>\n",
       "      <th>2</th>\n",
       "      <td>count vect-ing with removing stopwords</td>\n",
       "      <td>(114917, 36828)</td>\n",
       "    </tr>\n",
       "    <tr>\n",
       "      <th>3</th>\n",
       "      <td>count vect-ing tokenized without stemming and ...</td>\n",
       "      <td>(114917, 37127)</td>\n",
       "    </tr>\n",
       "    <tr>\n",
       "      <th>4</th>\n",
       "      <td>count vectorize with stemmingg</td>\n",
       "      <td>(114917, 25350)</td>\n",
       "    </tr>\n",
       "    <tr>\n",
       "      <th>5</th>\n",
       "      <td>count vectorize with lemmatization</td>\n",
       "      <td>(114917, 32898)</td>\n",
       "    </tr>\n",
       "    <tr>\n",
       "      <th>6</th>\n",
       "      <td>count vect-ing</td>\n",
       "      <td>(114917, 37131)</td>\n",
       "    </tr>\n",
       "    <tr>\n",
       "      <th>7</th>\n",
       "      <td>TfIdfVectorizer vectorize vect-ing</td>\n",
       "      <td>(114917, 37131)</td>\n",
       "    </tr>\n",
       "    <tr>\n",
       "      <th>8</th>\n",
       "      <td>TfIdfVectorizer vectorize vect-ing (1,1)</td>\n",
       "      <td>(114917, 37131)</td>\n",
       "    </tr>\n",
       "    <tr>\n",
       "      <th>9</th>\n",
       "      <td>TfIdfVectorizer vectorize vect-ing (2,2)</td>\n",
       "      <td>(114917, 599590)</td>\n",
       "    </tr>\n",
       "  </tbody>\n",
       "</table>\n",
       "</div>"
      ],
      "text/plain": [
       "                                    Vectoring Method             Shape\n",
       "1          count vect-ing without removing stopwords   (114917, 37131)\n",
       "2             count vect-ing with removing stopwords   (114917, 36828)\n",
       "3  count vect-ing tokenized without stemming and ...   (114917, 37127)\n",
       "4                     count vectorize with stemmingg   (114917, 25350)\n",
       "5                 count vectorize with lemmatization   (114917, 32898)\n",
       "6                                     count vect-ing   (114917, 37131)\n",
       "7                 TfIdfVectorizer vectorize vect-ing   (114917, 37131)\n",
       "8           TfIdfVectorizer vectorize vect-ing (1,1)   (114917, 37131)\n",
       "9           TfIdfVectorizer vectorize vect-ing (2,2)  (114917, 599590)"
      ]
     },
     "execution_count": 38,
     "metadata": {},
     "output_type": "execute_result"
    }
   ],
   "source": [
    "#  TfIdfVectorizer (2,2) vectorize review without removing stopwords\n",
    "\n",
    "vectorizer = TfidfVectorizer(ngram_range=(2,2))\n",
    "vectorize(all_reviews_df.review, \"TfIdfVectorizer vectorize vect-ing (2,2)\", vectorizer)"
   ]
  },
  {
   "cell_type": "code",
   "execution_count": 39,
   "id": "650c5a1a",
   "metadata": {
    "hidden": true
   },
   "outputs": [
    {
     "data": {
      "text/html": [
       "<div>\n",
       "<style scoped>\n",
       "    .dataframe tbody tr th:only-of-type {\n",
       "        vertical-align: middle;\n",
       "    }\n",
       "\n",
       "    .dataframe tbody tr th {\n",
       "        vertical-align: top;\n",
       "    }\n",
       "\n",
       "    .dataframe thead th {\n",
       "        text-align: right;\n",
       "    }\n",
       "</style>\n",
       "<table border=\"1\" class=\"dataframe\">\n",
       "  <thead>\n",
       "    <tr style=\"text-align: right;\">\n",
       "      <th></th>\n",
       "      <th>Vectoring Method</th>\n",
       "      <th>Shape</th>\n",
       "    </tr>\n",
       "  </thead>\n",
       "  <tbody>\n",
       "    <tr>\n",
       "      <th>1</th>\n",
       "      <td>count vect-ing without removing stopwords</td>\n",
       "      <td>(114917, 37131)</td>\n",
       "    </tr>\n",
       "    <tr>\n",
       "      <th>2</th>\n",
       "      <td>count vect-ing with removing stopwords</td>\n",
       "      <td>(114917, 36828)</td>\n",
       "    </tr>\n",
       "    <tr>\n",
       "      <th>3</th>\n",
       "      <td>count vect-ing tokenized without stemming and ...</td>\n",
       "      <td>(114917, 37127)</td>\n",
       "    </tr>\n",
       "    <tr>\n",
       "      <th>4</th>\n",
       "      <td>count vectorize with stemmingg</td>\n",
       "      <td>(114917, 25350)</td>\n",
       "    </tr>\n",
       "    <tr>\n",
       "      <th>5</th>\n",
       "      <td>count vectorize with lemmatization</td>\n",
       "      <td>(114917, 32898)</td>\n",
       "    </tr>\n",
       "    <tr>\n",
       "      <th>6</th>\n",
       "      <td>count vect-ing</td>\n",
       "      <td>(114917, 37131)</td>\n",
       "    </tr>\n",
       "    <tr>\n",
       "      <th>7</th>\n",
       "      <td>TfIdfVectorizer vectorize vect-ing</td>\n",
       "      <td>(114917, 37131)</td>\n",
       "    </tr>\n",
       "    <tr>\n",
       "      <th>8</th>\n",
       "      <td>TfIdfVectorizer vectorize vect-ing (1,1)</td>\n",
       "      <td>(114917, 37131)</td>\n",
       "    </tr>\n",
       "    <tr>\n",
       "      <th>9</th>\n",
       "      <td>TfIdfVectorizer vectorize vect-ing (2,2)</td>\n",
       "      <td>(114917, 599590)</td>\n",
       "    </tr>\n",
       "    <tr>\n",
       "      <th>10</th>\n",
       "      <td>TfIdfVectorizer vectorize vect-ing (3,3)</td>\n",
       "      <td>(114917, 1585098)</td>\n",
       "    </tr>\n",
       "  </tbody>\n",
       "</table>\n",
       "</div>"
      ],
      "text/plain": [
       "                                     Vectoring Method              Shape\n",
       "1           count vect-ing without removing stopwords    (114917, 37131)\n",
       "2              count vect-ing with removing stopwords    (114917, 36828)\n",
       "3   count vect-ing tokenized without stemming and ...    (114917, 37127)\n",
       "4                      count vectorize with stemmingg    (114917, 25350)\n",
       "5                  count vectorize with lemmatization    (114917, 32898)\n",
       "6                                      count vect-ing    (114917, 37131)\n",
       "7                  TfIdfVectorizer vectorize vect-ing    (114917, 37131)\n",
       "8            TfIdfVectorizer vectorize vect-ing (1,1)    (114917, 37131)\n",
       "9            TfIdfVectorizer vectorize vect-ing (2,2)   (114917, 599590)\n",
       "10           TfIdfVectorizer vectorize vect-ing (3,3)  (114917, 1585098)"
      ]
     },
     "execution_count": 39,
     "metadata": {},
     "output_type": "execute_result"
    }
   ],
   "source": [
    "#  TfIdfVectorizer (3,3) vectorize review without removing stopwords\n",
    "\n",
    "vectorizer = TfidfVectorizer(ngram_range=(3,3))\n",
    "vectorize(all_reviews_df.review, \"TfIdfVectorizer vectorize vect-ing (3,3)\", vectorizer)"
   ]
  },
  {
   "cell_type": "markdown",
   "id": "eb6982b4",
   "metadata": {},
   "source": [
    "## Extra"
   ]
  },
  {
   "cell_type": "markdown",
   "id": "5c51af4e",
   "metadata": {
    "heading_collapsed": true
   },
   "source": [
    "### Model with and without stopword"
   ]
  },
  {
   "cell_type": "code",
   "execution_count": null,
   "id": "a58e57f7",
   "metadata": {
    "hidden": true
   },
   "outputs": [],
   "source": [
    "# create df to store models results\n",
    "summary = pd.DataFrame(columns = ['Name', 'Accuracy', 'AUROC'])"
   ]
  },
  {
   "cell_type": "code",
   "execution_count": null,
   "id": "8c7cb34d",
   "metadata": {
    "hidden": true
   },
   "outputs": [],
   "source": [
    "# create function to run a model\n",
    "def LogisticReg(name, variables, response):\n",
    "    # import packages\n",
    "    from sklearn.linear_model import LogisticRegression\n",
    "    from sklearn.feature_extraction.text import CountVectorizer\n",
    "    from sklearn.metrics import roc_auc_score\n",
    "    import numpy as np\n",
    "    # Vectorize\n",
    "    X = vectorizer.fit_transform(variables)\n",
    "    y = response.values\n",
    "    # run logistic regression\n",
    "    lr = LogisticRegression()\n",
    "    lr.fit(X, y)\n",
    "    # calculate accuracy and aucroc\n",
    "    y_pred = lr.predict(X)\n",
    "    accuracy = np.mean(y_pred == y)\n",
    "    from sklearn.metrics import confusion_matrix\n",
    "    confusion_matrix(y, y_pred)\n",
    "    auc = roc_auc_score(y, y_pred)\n",
    "    summary.loc['model '+ str(len(summary)+1)] = [name, accuracy, auc]\n",
    "    print(summary)"
   ]
  },
  {
   "cell_type": "code",
   "execution_count": null,
   "id": "4bb8e16f",
   "metadata": {
    "hidden": true
   },
   "outputs": [],
   "source": [
    "# vectorize review without removing stopwords\n",
    "from sklearn.feature_extraction.text import CountVectorizer\n",
    "vectorizer = CountVectorizer(max_features=1000)\n",
    "# run a model\n",
    "LogisticReg('with stopwords', all_reviews_df.review, all_reviews_df.positive)"
   ]
  },
  {
   "cell_type": "code",
   "execution_count": null,
   "id": "3fade0da",
   "metadata": {
    "hidden": true
   },
   "outputs": [],
   "source": [
    "# vectorize review without removing stopwords\n",
    "vectorizer = CountVectorizer(stop_words=\"english\", binary=True, min_df=2, max_features=1000)\n",
    "# run a model\n",
    "LogisticReg('without stopwords', all_reviews_df.review, all_reviews_df.positive)"
   ]
  },
  {
   "cell_type": "markdown",
   "id": "28f15f3c",
   "metadata": {
    "heading_collapsed": true
   },
   "source": [
    "### Models with  1) stemming 2) lemmatization"
   ]
  },
  {
   "cell_type": "code",
   "execution_count": null,
   "id": "956e199a",
   "metadata": {
    "hidden": true
   },
   "outputs": [],
   "source": [
    "import nltk\n",
    "all_reviews_df['tokenized_review'] = all_reviews_df.apply(lambda row: nltk.word_tokenize(row['review']), axis=1)"
   ]
  },
  {
   "cell_type": "code",
   "execution_count": null,
   "id": "a8525e47",
   "metadata": {
    "hidden": true
   },
   "outputs": [],
   "source": [
    "from nltk.stem.porter import *\n",
    "stemmer = PorterStemmer()"
   ]
  },
  {
   "cell_type": "code",
   "execution_count": null,
   "id": "980be033",
   "metadata": {
    "hidden": true
   },
   "outputs": [],
   "source": [
    "all_reviews_df['stemmed'] = all_reviews_df['tokenized_review'].apply(lambda x: [stemmer.stem(y) for y in x])"
   ]
  },
  {
   "cell_type": "code",
   "execution_count": null,
   "id": "1c202250",
   "metadata": {
    "hidden": true
   },
   "outputs": [],
   "source": [
    "for i in range(len(all_reviews_df['stemmed'])):\n",
    "    all_reviews_df.loc[i,'stemmed']=' '.join(all_reviews_df.loc[i,'stemmed'])"
   ]
  },
  {
   "cell_type": "code",
   "execution_count": null,
   "id": "bdcb171c",
   "metadata": {
    "hidden": true
   },
   "outputs": [],
   "source": [
    "# Model with stemmed reviews\n",
    "vectorizer = CountVectorizer(max_features=1000)\n",
    "LogisticReg(\"Stemmed\",all_reviews_df.stemmed, all_reviews_df.positive)"
   ]
  },
  {
   "cell_type": "code",
   "execution_count": null,
   "id": "10485173",
   "metadata": {
    "hidden": true
   },
   "outputs": [],
   "source": [
    "from nltk.stem import WordNetLemmatizer\n",
    "lemmatizer = WordNetLemmatizer()\n",
    "all_reviews_df['Lemmatized'] = all_reviews_df['tokenized_review'].apply(lambda x: [lemmatizer.lemmatize(y) for y in x])"
   ]
  },
  {
   "cell_type": "code",
   "execution_count": null,
   "id": "00e4caf8",
   "metadata": {
    "hidden": true
   },
   "outputs": [],
   "source": [
    "for i in range(len(all_reviews_df['Lemmatized'])):\n",
    "    all_reviews_df.loc[i,'Lemmatized']=' '.join(all_reviews_df.loc[i,'Lemmatized'])"
   ]
  },
  {
   "cell_type": "code",
   "execution_count": null,
   "id": "764b2de2",
   "metadata": {
    "hidden": true
   },
   "outputs": [],
   "source": [
    "LogisticReg('Lemmatized', all_reviews_df.Lemmatized, all_reviews_df.positive)"
   ]
  },
  {
   "cell_type": "markdown",
   "id": "d68e5f85",
   "metadata": {
    "heading_collapsed": true
   },
   "source": [
    "### TfIdfVectorizer versus CountVectorizer"
   ]
  },
  {
   "cell_type": "code",
   "execution_count": null,
   "id": "bb0ece42",
   "metadata": {
    "hidden": true
   },
   "outputs": [],
   "source": [
    "from sklearn.feature_extraction.text import TfidfVectorizer\n",
    "from nltk.corpus import stopwords"
   ]
  },
  {
   "cell_type": "code",
   "execution_count": null,
   "id": "455c75df",
   "metadata": {
    "hidden": true
   },
   "outputs": [],
   "source": [
    "vectorizer = TfidfVectorizer(ngram_range=(1,1),\n",
    "                             token_pattern=r'\\b[a-zA-Z]{3,}\\b',\n",
    "                             max_df=0.4, max_features=1000)"
   ]
  },
  {
   "cell_type": "code",
   "execution_count": null,
   "id": "699721c4",
   "metadata": {
    "hidden": true,
    "scrolled": true
   },
   "outputs": [],
   "source": [
    "LogisticReg('TF-IDF (1,1)', all_reviews_df.review, all_reviews_df.positive)"
   ]
  },
  {
   "cell_type": "code",
   "execution_count": null,
   "id": "d9aeee8c",
   "metadata": {
    "hidden": true
   },
   "outputs": [],
   "source": [
    "# Vectorize using TF-IDF\n",
    "vectorizer = TfidfVectorizer(ngram_range=(2,2),\n",
    "                             token_pattern=r'\\b[a-zA-Z]{3,}\\b',\n",
    "                             max_df=0.4, max_features=1000)\n",
    "# Run a model\n",
    "LogisticReg('TF-IDF (2,2)', all_reviews_df.review, all_reviews_df.positive)"
   ]
  },
  {
   "cell_type": "code",
   "execution_count": null,
   "id": "0ef5dcac",
   "metadata": {
    "hidden": true
   },
   "outputs": [],
   "source": [
    "# Vectorize using TF-IDF\n",
    "vectorizer = TfidfVectorizer(ngram_range=(3,3),\n",
    "                             token_pattern=r'\\b[a-zA-Z]{3,}\\b',\n",
    "                             max_df=0.4, max_features=1000)\n",
    "# Run a model\n",
    "LogisticReg('TF-IDF (3,3)', all_reviews_df.review, all_reviews_df.positive)"
   ]
  }
 ],
 "metadata": {
  "kernelspec": {
   "display_name": "Python 3",
   "language": "python",
   "name": "python3"
  },
  "language_info": {
   "codemirror_mode": {
    "name": "ipython",
    "version": 3
   },
   "file_extension": ".py",
   "mimetype": "text/x-python",
   "name": "python",
   "nbconvert_exporter": "python",
   "pygments_lexer": "ipython3",
   "version": "3.8.8"
  }
 },
 "nbformat": 4,
 "nbformat_minor": 5
}
