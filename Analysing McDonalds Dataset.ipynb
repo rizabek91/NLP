{
 "cells": [
  {
   "cell_type": "markdown",
   "id": "8e83766f",
   "metadata": {},
   "source": [
    "# Part I. Topic Modelling and Analysis"
   ]
  },
  {
   "cell_type": "code",
   "execution_count": 1,
   "id": "9bd44b54",
   "metadata": {},
   "outputs": [],
   "source": [
    "import pandas as pd\n",
    "from sklearn.feature_extraction.text import CountVectorizer\n",
    "from sklearn.decomposition import NMF"
   ]
  },
  {
   "cell_type": "markdown",
   "id": "6be690c3",
   "metadata": {},
   "source": [
    "### Text preprocessing"
   ]
  },
  {
   "cell_type": "code",
   "execution_count": 44,
   "id": "45335ec3",
   "metadata": {},
   "outputs": [
    {
     "name": "stderr",
     "output_type": "stream",
     "text": [
      "C:\\Users\\Rizabek\\AppData\\Local\\Programs\\Python\\Python39\\python.exe: No module named spacy\n"
     ]
    }
   ],
   "source": [
    "# Loading en_core_web_md\n",
    "!py -m spacy download en_core_web_md"
   ]
  },
  {
   "cell_type": "code",
   "execution_count": 3,
   "id": "aa5e7c06",
   "metadata": {
    "scrolled": false
   },
   "outputs": [
    {
     "data": {
      "text/html": [
       "<div>\n",
       "<style scoped>\n",
       "    .dataframe tbody tr th:only-of-type {\n",
       "        vertical-align: middle;\n",
       "    }\n",
       "\n",
       "    .dataframe tbody tr th {\n",
       "        vertical-align: top;\n",
       "    }\n",
       "\n",
       "    .dataframe thead th {\n",
       "        text-align: right;\n",
       "    }\n",
       "</style>\n",
       "<table border=\"1\" class=\"dataframe\">\n",
       "  <thead>\n",
       "    <tr style=\"text-align: right;\">\n",
       "      <th></th>\n",
       "      <th>_unit_id</th>\n",
       "      <th>city</th>\n",
       "      <th>review</th>\n",
       "    </tr>\n",
       "  </thead>\n",
       "  <tbody>\n",
       "    <tr>\n",
       "      <th>0</th>\n",
       "      <td>679455653</td>\n",
       "      <td>Atlanta</td>\n",
       "      <td>I'm not a huge mcds lover, but I've been to be...</td>\n",
       "    </tr>\n",
       "    <tr>\n",
       "      <th>1</th>\n",
       "      <td>679455654</td>\n",
       "      <td>Atlanta</td>\n",
       "      <td>Terrible customer service. I came in at 9:30pm...</td>\n",
       "    </tr>\n",
       "    <tr>\n",
       "      <th>2</th>\n",
       "      <td>679455655</td>\n",
       "      <td>Atlanta</td>\n",
       "      <td>First they \"lost\" my order, actually they gave...</td>\n",
       "    </tr>\n",
       "    <tr>\n",
       "      <th>3</th>\n",
       "      <td>679455656</td>\n",
       "      <td>Atlanta</td>\n",
       "      <td>I see I'm not the only one giving 1 star. Only...</td>\n",
       "    </tr>\n",
       "    <tr>\n",
       "      <th>4</th>\n",
       "      <td>679455657</td>\n",
       "      <td>Atlanta</td>\n",
       "      <td>Well, it's McDonald's, so you know what the fo...</td>\n",
       "    </tr>\n",
       "  </tbody>\n",
       "</table>\n",
       "</div>"
      ],
      "text/plain": [
       "    _unit_id     city                                             review\n",
       "0  679455653  Atlanta  I'm not a huge mcds lover, but I've been to be...\n",
       "1  679455654  Atlanta  Terrible customer service. I came in at 9:30pm...\n",
       "2  679455655  Atlanta  First they \"lost\" my order, actually they gave...\n",
       "3  679455656  Atlanta  I see I'm not the only one giving 1 star. Only...\n",
       "4  679455657  Atlanta  Well, it's McDonald's, so you know what the fo..."
      ]
     },
     "execution_count": 3,
     "metadata": {},
     "output_type": "execute_result"
    }
   ],
   "source": [
    "df = pd.read_csv(\"../dso-560-nlp-text-analytics-main/datasets/mcdonalds-yelp-negative-reviews.csv\", encoding='latin-1')\n",
    "df.head()"
   ]
  },
  {
   "cell_type": "code",
   "execution_count": 4,
   "id": "2bdf4e9f",
   "metadata": {},
   "outputs": [],
   "source": [
    "# lemitization using spacy\n",
    "import spacy\n",
    "nlp = spacy.load(\"en_core_web_sm\")"
   ]
  },
  {
   "cell_type": "code",
   "execution_count": 5,
   "id": "80b39445",
   "metadata": {},
   "outputs": [],
   "source": [
    "# lower case\n",
    "df['review'] = df['review'].apply(lambda x: x.lower())"
   ]
  },
  {
   "cell_type": "code",
   "execution_count": 6,
   "id": "1767b9de",
   "metadata": {},
   "outputs": [],
   "source": [
    "# manually replace some MCDonalds\n",
    "df[\"cleaned_review\"] = df[\"review\"].str.replace(r'\\b(mcdonald\\'?s?|mcds?)\\b', 'McDonalds', case=False, regex=True)\n",
    "\n",
    "# manually replace some drive through\n",
    "df[\"cleaned_review\"] = df[\"cleaned_review\"].str.replace(r'\\b(drive-? ?thro?uh?s?|Drive-? ?Through)\\b', 'DriveThrough', case=False, regex=True)\n",
    "\n",
    "# manually replace time \n",
    "df[\"cleaned_review\"] = df[\"cleaned_review\"].str.replace(r'(\\d+):(\\d+) ?[am|pm]*', 'TIME', case=False, regex=True)\n"
   ]
  },
  {
   "cell_type": "code",
   "execution_count": 7,
   "id": "a3f06e51",
   "metadata": {},
   "outputs": [
    {
     "data": {
      "text/html": [
       "<div>\n",
       "<style scoped>\n",
       "    .dataframe tbody tr th:only-of-type {\n",
       "        vertical-align: middle;\n",
       "    }\n",
       "\n",
       "    .dataframe tbody tr th {\n",
       "        vertical-align: top;\n",
       "    }\n",
       "\n",
       "    .dataframe thead th {\n",
       "        text-align: right;\n",
       "    }\n",
       "</style>\n",
       "<table border=\"1\" class=\"dataframe\">\n",
       "  <thead>\n",
       "    <tr style=\"text-align: right;\">\n",
       "      <th></th>\n",
       "      <th>_unit_id</th>\n",
       "      <th>city</th>\n",
       "      <th>review</th>\n",
       "      <th>cleaned_review</th>\n",
       "    </tr>\n",
       "  </thead>\n",
       "  <tbody>\n",
       "    <tr>\n",
       "      <th>0</th>\n",
       "      <td>679455653</td>\n",
       "      <td>Atlanta</td>\n",
       "      <td>i'm not a huge mcds lover, but i've been to be...</td>\n",
       "      <td>i'm not a huge McDonalds lover, but i've been ...</td>\n",
       "    </tr>\n",
       "    <tr>\n",
       "      <th>1</th>\n",
       "      <td>679455654</td>\n",
       "      <td>Atlanta</td>\n",
       "      <td>terrible customer service. i came in at 9:30pm...</td>\n",
       "      <td>terrible customer service. i came in at TIME a...</td>\n",
       "    </tr>\n",
       "    <tr>\n",
       "      <th>2</th>\n",
       "      <td>679455655</td>\n",
       "      <td>Atlanta</td>\n",
       "      <td>first they \"lost\" my order, actually they gave...</td>\n",
       "      <td>first they \"lost\" my order, actually they gave...</td>\n",
       "    </tr>\n",
       "    <tr>\n",
       "      <th>3</th>\n",
       "      <td>679455656</td>\n",
       "      <td>Atlanta</td>\n",
       "      <td>i see i'm not the only one giving 1 star. only...</td>\n",
       "      <td>i see i'm not the only one giving 1 star. only...</td>\n",
       "    </tr>\n",
       "    <tr>\n",
       "      <th>4</th>\n",
       "      <td>679455657</td>\n",
       "      <td>Atlanta</td>\n",
       "      <td>well, it's mcdonald's, so you know what the fo...</td>\n",
       "      <td>well, it's McDonalds, so you know what the foo...</td>\n",
       "    </tr>\n",
       "    <tr>\n",
       "      <th>5</th>\n",
       "      <td>679455658</td>\n",
       "      <td>Atlanta</td>\n",
       "      <td>this has to be one of the worst and slowest mc...</td>\n",
       "      <td>this has to be one of the worst and slowest Mc...</td>\n",
       "    </tr>\n",
       "    <tr>\n",
       "      <th>6</th>\n",
       "      <td>679455659</td>\n",
       "      <td>Atlanta</td>\n",
       "      <td>i'm not crazy about this mcdonald's. this is p...</td>\n",
       "      <td>i'm not crazy about this McDonalds. this is pr...</td>\n",
       "    </tr>\n",
       "    <tr>\n",
       "      <th>7</th>\n",
       "      <td>679455660</td>\n",
       "      <td>Atlanta</td>\n",
       "      <td>one star and i'm beng kind. i blame management...</td>\n",
       "      <td>one star and i'm beng kind. i blame management...</td>\n",
       "    </tr>\n",
       "    <tr>\n",
       "      <th>8</th>\n",
       "      <td>679455661</td>\n",
       "      <td>Atlanta</td>\n",
       "      <td>never been upset about any fast food drive thr...</td>\n",
       "      <td>never been upset about any fast food DriveThro...</td>\n",
       "    </tr>\n",
       "    <tr>\n",
       "      <th>9</th>\n",
       "      <td>679455662</td>\n",
       "      <td>Atlanta</td>\n",
       "      <td>this mcdonald's has gotten much better. usuall...</td>\n",
       "      <td>this McDonalds has gotten much better. usually...</td>\n",
       "    </tr>\n",
       "    <tr>\n",
       "      <th>10</th>\n",
       "      <td>679455663</td>\n",
       "      <td>Atlanta</td>\n",
       "      <td>let's start here only reason i came into mcdon...</td>\n",
       "      <td>let's start here only reason i came into McDon...</td>\n",
       "    </tr>\n",
       "    <tr>\n",
       "      <th>11</th>\n",
       "      <td>679455664</td>\n",
       "      <td>Atlanta</td>\n",
       "      <td>other businesses throughout metro atlanta open...</td>\n",
       "      <td>other businesses throughout metro atlanta open...</td>\n",
       "    </tr>\n",
       "    <tr>\n",
       "      <th>12</th>\n",
       "      <td>679455665</td>\n",
       "      <td>Atlanta</td>\n",
       "      <td>the drive thru makes them lost a star since my...</td>\n",
       "      <td>the DriveThrough makes them lost a star since ...</td>\n",
       "    </tr>\n",
       "    <tr>\n",
       "      <th>13</th>\n",
       "      <td>679455666</td>\n",
       "      <td>Atlanta</td>\n",
       "      <td>believe it or not, this used to be q really go...</td>\n",
       "      <td>believe it or not, this used to be q really go...</td>\n",
       "    </tr>\n",
       "    <tr>\n",
       "      <th>14</th>\n",
       "      <td>679455667</td>\n",
       "      <td>Atlanta</td>\n",
       "      <td>as the previous yelpers have already stated, t...</td>\n",
       "      <td>as the previous yelpers have already stated, t...</td>\n",
       "    </tr>\n",
       "    <tr>\n",
       "      <th>15</th>\n",
       "      <td>679455668</td>\n",
       "      <td>Atlanta</td>\n",
       "      <td>25 minutes in drive through line. gunshots fro...</td>\n",
       "      <td>25 minutes in DriveThrough line. gunshots from...</td>\n",
       "    </tr>\n",
       "    <tr>\n",
       "      <th>16</th>\n",
       "      <td>679455669</td>\n",
       "      <td>Atlanta</td>\n",
       "      <td>super slow service, food's terrible like its b...</td>\n",
       "      <td>super slow service, food's terrible like its b...</td>\n",
       "    </tr>\n",
       "    <tr>\n",
       "      <th>17</th>\n",
       "      <td>679455670</td>\n",
       "      <td>Atlanta</td>\n",
       "      <td>slow-slow-slow! don't go here if you have a fl...</td>\n",
       "      <td>slow-slow-slow! don't go here if you have a fl...</td>\n",
       "    </tr>\n",
       "    <tr>\n",
       "      <th>18</th>\n",
       "      <td>679455671</td>\n",
       "      <td>Atlanta</td>\n",
       "      <td>on your way to the airport or just cruising do...</td>\n",
       "      <td>on your way to the airport or just cruising do...</td>\n",
       "    </tr>\n",
       "    <tr>\n",
       "      <th>19</th>\n",
       "      <td>679455672</td>\n",
       "      <td>Atlanta</td>\n",
       "      <td>this is the worst mcdonalds i have ever seen. ...</td>\n",
       "      <td>this is the worst McDonalds i have ever seen. ...</td>\n",
       "    </tr>\n",
       "  </tbody>\n",
       "</table>\n",
       "</div>"
      ],
      "text/plain": [
       "     _unit_id     city                                             review  \\\n",
       "0   679455653  Atlanta  i'm not a huge mcds lover, but i've been to be...   \n",
       "1   679455654  Atlanta  terrible customer service. i came in at 9:30pm...   \n",
       "2   679455655  Atlanta  first they \"lost\" my order, actually they gave...   \n",
       "3   679455656  Atlanta  i see i'm not the only one giving 1 star. only...   \n",
       "4   679455657  Atlanta  well, it's mcdonald's, so you know what the fo...   \n",
       "5   679455658  Atlanta  this has to be one of the worst and slowest mc...   \n",
       "6   679455659  Atlanta  i'm not crazy about this mcdonald's. this is p...   \n",
       "7   679455660  Atlanta  one star and i'm beng kind. i blame management...   \n",
       "8   679455661  Atlanta  never been upset about any fast food drive thr...   \n",
       "9   679455662  Atlanta  this mcdonald's has gotten much better. usuall...   \n",
       "10  679455663  Atlanta  let's start here only reason i came into mcdon...   \n",
       "11  679455664  Atlanta  other businesses throughout metro atlanta open...   \n",
       "12  679455665  Atlanta  the drive thru makes them lost a star since my...   \n",
       "13  679455666  Atlanta  believe it or not, this used to be q really go...   \n",
       "14  679455667  Atlanta  as the previous yelpers have already stated, t...   \n",
       "15  679455668  Atlanta  25 minutes in drive through line. gunshots fro...   \n",
       "16  679455669  Atlanta  super slow service, food's terrible like its b...   \n",
       "17  679455670  Atlanta  slow-slow-slow! don't go here if you have a fl...   \n",
       "18  679455671  Atlanta  on your way to the airport or just cruising do...   \n",
       "19  679455672  Atlanta  this is the worst mcdonalds i have ever seen. ...   \n",
       "\n",
       "                                       cleaned_review  \n",
       "0   i'm not a huge McDonalds lover, but i've been ...  \n",
       "1   terrible customer service. i came in at TIME a...  \n",
       "2   first they \"lost\" my order, actually they gave...  \n",
       "3   i see i'm not the only one giving 1 star. only...  \n",
       "4   well, it's McDonalds, so you know what the foo...  \n",
       "5   this has to be one of the worst and slowest Mc...  \n",
       "6   i'm not crazy about this McDonalds. this is pr...  \n",
       "7   one star and i'm beng kind. i blame management...  \n",
       "8   never been upset about any fast food DriveThro...  \n",
       "9   this McDonalds has gotten much better. usually...  \n",
       "10  let's start here only reason i came into McDon...  \n",
       "11  other businesses throughout metro atlanta open...  \n",
       "12  the DriveThrough makes them lost a star since ...  \n",
       "13  believe it or not, this used to be q really go...  \n",
       "14  as the previous yelpers have already stated, t...  \n",
       "15  25 minutes in DriveThrough line. gunshots from...  \n",
       "16  super slow service, food's terrible like its b...  \n",
       "17  slow-slow-slow! don't go here if you have a fl...  \n",
       "18  on your way to the airport or just cruising do...  \n",
       "19  this is the worst McDonalds i have ever seen. ...  "
      ]
     },
     "execution_count": 7,
     "metadata": {},
     "output_type": "execute_result"
    }
   ],
   "source": [
    "df.head(20)"
   ]
  },
  {
   "cell_type": "code",
   "execution_count": 8,
   "id": "2433de79",
   "metadata": {},
   "outputs": [],
   "source": [
    "# remove \"not\" from Spacy default stopwords\n",
    "nlp = spacy.load(\"en_core_web_md\")\n",
    "nlp.Defaults.stop_words -= {\"not\"}"
   ]
  },
  {
   "cell_type": "code",
   "execution_count": 9,
   "id": "109b6559",
   "metadata": {},
   "outputs": [],
   "source": [
    "# create function for lemmitization\n",
    "def lemmatize(text):\n",
    "    spacy_doc = nlp(text)\n",
    "    review = []\n",
    "    for token in spacy_doc:\n",
    "        if token.is_stop: # don't include stop words.The Spacy library has a default list of 326 stopwords\n",
    "            continue\n",
    "        else:\n",
    "            review.append(token.lemma_)\n",
    "            lemmatized = \" \".join(review)\n",
    "    return lemmatized"
   ]
  },
  {
   "cell_type": "code",
   "execution_count": 10,
   "id": "181d7c4d",
   "metadata": {},
   "outputs": [],
   "source": [
    "# lemmitize review\n",
    "for i in range(len(df)):\n",
    "    df.loc[i, 'cleaned_review'] = lemmatize(df.loc[i,'cleaned_review'])"
   ]
  },
  {
   "cell_type": "code",
   "execution_count": null,
   "id": "f5636618",
   "metadata": {
    "scrolled": true
   },
   "outputs": [],
   "source": [
    "# install library\n",
    "!pip install textacy"
   ]
  },
  {
   "cell_type": "code",
   "execution_count": 12,
   "id": "50c6ac89",
   "metadata": {
    "scrolled": true
   },
   "outputs": [
    {
     "data": {
      "text/html": [
       "<div>\n",
       "<style scoped>\n",
       "    .dataframe tbody tr th:only-of-type {\n",
       "        vertical-align: middle;\n",
       "    }\n",
       "\n",
       "    .dataframe tbody tr th {\n",
       "        vertical-align: top;\n",
       "    }\n",
       "\n",
       "    .dataframe thead th {\n",
       "        text-align: right;\n",
       "    }\n",
       "</style>\n",
       "<table border=\"1\" class=\"dataframe\">\n",
       "  <thead>\n",
       "    <tr style=\"text-align: right;\">\n",
       "      <th></th>\n",
       "      <th>_unit_id</th>\n",
       "      <th>city</th>\n",
       "      <th>review</th>\n",
       "      <th>cleaned_review</th>\n",
       "    </tr>\n",
       "  </thead>\n",
       "  <tbody>\n",
       "    <tr>\n",
       "      <th>0</th>\n",
       "      <td>679455653</td>\n",
       "      <td>Atlanta</td>\n",
       "      <td>i'm not a huge mcds lover, but i've been to be...</td>\n",
       "      <td>huge McDonalds lover , well one . far bad ! fi...</td>\n",
       "    </tr>\n",
       "    <tr>\n",
       "      <th>1</th>\n",
       "      <td>679455654</td>\n",
       "      <td>Atlanta</td>\n",
       "      <td>terrible customer service. i came in at 9:30pm...</td>\n",
       "      <td>terrible customer service . come TIME stand re...</td>\n",
       "    </tr>\n",
       "    <tr>\n",
       "      <th>2</th>\n",
       "      <td>679455655</td>\n",
       "      <td>Atlanta</td>\n",
       "      <td>first they \"lost\" my order, actually they gave...</td>\n",
       "      <td>\" lose \" order , actually give take _NUMBER_ m...</td>\n",
       "    </tr>\n",
       "    <tr>\n",
       "      <th>3</th>\n",
       "      <td>679455656</td>\n",
       "      <td>Atlanta</td>\n",
       "      <td>i see i'm not the only one giving 1 star. only...</td>\n",
       "      <td>give _NUMBER_ star . _NUMBER_ star ! ! ! need !</td>\n",
       "    </tr>\n",
       "    <tr>\n",
       "      <th>4</th>\n",
       "      <td>679455657</td>\n",
       "      <td>Atlanta</td>\n",
       "      <td>well, it's mcdonald's, so you know what the fo...</td>\n",
       "      <td>, McDonalds , know food . review reflect solel...</td>\n",
       "    </tr>\n",
       "  </tbody>\n",
       "</table>\n",
       "</div>"
      ],
      "text/plain": [
       "    _unit_id     city                                             review  \\\n",
       "0  679455653  Atlanta  i'm not a huge mcds lover, but i've been to be...   \n",
       "1  679455654  Atlanta  terrible customer service. i came in at 9:30pm...   \n",
       "2  679455655  Atlanta  first they \"lost\" my order, actually they gave...   \n",
       "3  679455656  Atlanta  i see i'm not the only one giving 1 star. only...   \n",
       "4  679455657  Atlanta  well, it's mcdonald's, so you know what the fo...   \n",
       "\n",
       "                                      cleaned_review  \n",
       "0  huge McDonalds lover , well one . far bad ! fi...  \n",
       "1  terrible customer service . come TIME stand re...  \n",
       "2  \" lose \" order , actually give take _NUMBER_ m...  \n",
       "3    give _NUMBER_ star . _NUMBER_ star ! ! ! need !  \n",
       "4  , McDonalds , know food . review reflect solel...  "
      ]
     },
     "execution_count": 12,
     "metadata": {},
     "output_type": "execute_result"
    }
   ],
   "source": [
    "# text preprocessing using textacy\n",
    "from textacy.preprocessing.replace import urls, hashtags, numbers, emails, emojis, currency_symbols\n",
    "df[\"cleaned_review\"] = df.cleaned_review.\\\n",
    "  apply(urls).\\\n",
    "  apply(hashtags).\\\n",
    "  apply(numbers).\\\n",
    "  apply(currency_symbols).\\\n",
    "  apply(emojis).\\\n",
    "  apply(emails)\n",
    "df.head(5)"
   ]
  },
  {
   "cell_type": "code",
   "execution_count": 13,
   "id": "3e3e55d5",
   "metadata": {},
   "outputs": [],
   "source": [
    "# # removing the stopwords using gensim\n",
    "# from gensim.parsing.preprocessing import remove_stopwords\n",
    "# for i in range(len(df)):\n",
    "#     df.loc[i, 'cleaned_review'] = remove_stopwords(df.loc[i, 'cleaned_review'])"
   ]
  },
  {
   "cell_type": "code",
   "execution_count": 14,
   "id": "3f4470b7",
   "metadata": {},
   "outputs": [
    {
     "data": {
      "text/html": [
       "<div>\n",
       "<style scoped>\n",
       "    .dataframe tbody tr th:only-of-type {\n",
       "        vertical-align: middle;\n",
       "    }\n",
       "\n",
       "    .dataframe tbody tr th {\n",
       "        vertical-align: top;\n",
       "    }\n",
       "\n",
       "    .dataframe thead th {\n",
       "        text-align: right;\n",
       "    }\n",
       "</style>\n",
       "<table border=\"1\" class=\"dataframe\">\n",
       "  <thead>\n",
       "    <tr style=\"text-align: right;\">\n",
       "      <th></th>\n",
       "      <th>_unit_id</th>\n",
       "      <th>city</th>\n",
       "      <th>review</th>\n",
       "      <th>cleaned_review</th>\n",
       "    </tr>\n",
       "  </thead>\n",
       "  <tbody>\n",
       "    <tr>\n",
       "      <th>0</th>\n",
       "      <td>679455653</td>\n",
       "      <td>Atlanta</td>\n",
       "      <td>i'm not a huge mcds lover, but i've been to be...</td>\n",
       "      <td>huge McDonalds lover , . far bad ! filthy insi...</td>\n",
       "    </tr>\n",
       "    <tr>\n",
       "      <th>1</th>\n",
       "      <td>679455654</td>\n",
       "      <td>Atlanta</td>\n",
       "      <td>terrible customer service. i came in at 9:30pm...</td>\n",
       "      <td>terrible customer service . come TIME stand re...</td>\n",
       "    </tr>\n",
       "    <tr>\n",
       "      <th>2</th>\n",
       "      <td>679455655</td>\n",
       "      <td>Atlanta</td>\n",
       "      <td>first they \"lost\" my order, actually they gave...</td>\n",
       "      <td>\" lose \" order , actually _NUMBER_ minute figu...</td>\n",
       "    </tr>\n",
       "    <tr>\n",
       "      <th>3</th>\n",
       "      <td>679455656</td>\n",
       "      <td>Atlanta</td>\n",
       "      <td>i see i'm not the only one giving 1 star. only...</td>\n",
       "      <td>_NUMBER_ star . _NUMBER_ star ! ! ! need !</td>\n",
       "    </tr>\n",
       "    <tr>\n",
       "      <th>4</th>\n",
       "      <td>679455657</td>\n",
       "      <td>Atlanta</td>\n",
       "      <td>well, it's mcdonald's, so you know what the fo...</td>\n",
       "      <td>, McDonalds , know food . review reflect solel...</td>\n",
       "    </tr>\n",
       "  </tbody>\n",
       "</table>\n",
       "</div>"
      ],
      "text/plain": [
       "    _unit_id     city                                             review  \\\n",
       "0  679455653  Atlanta  i'm not a huge mcds lover, but i've been to be...   \n",
       "1  679455654  Atlanta  terrible customer service. i came in at 9:30pm...   \n",
       "2  679455655  Atlanta  first they \"lost\" my order, actually they gave...   \n",
       "3  679455656  Atlanta  i see i'm not the only one giving 1 star. only...   \n",
       "4  679455657  Atlanta  well, it's mcdonald's, so you know what the fo...   \n",
       "\n",
       "                                      cleaned_review  \n",
       "0  huge McDonalds lover , . far bad ! filthy insi...  \n",
       "1  terrible customer service . come TIME stand re...  \n",
       "2  \" lose \" order , actually _NUMBER_ minute figu...  \n",
       "3         _NUMBER_ star . _NUMBER_ star ! ! ! need !  \n",
       "4  , McDonalds , know food . review reflect solel...  "
      ]
     },
     "execution_count": 14,
     "metadata": {},
     "output_type": "execute_result"
    }
   ],
   "source": [
    "df.head(5)"
   ]
  },
  {
   "cell_type": "markdown",
   "id": "9db8e774",
   "metadata": {},
   "source": [
    "### Vectorizing"
   ]
  },
  {
   "cell_type": "code",
   "execution_count": 33,
   "id": "565500b6",
   "metadata": {},
   "outputs": [
    {
     "name": "stdout",
     "output_type": "stream",
     "text": [
      "TF-IDF: (1525, 700)\n",
      "   2nd window  _cur_ _number_  _number_ _cur_  _number_ _number_  \\\n",
      "0         0.0             0.0             0.0                0.0   \n",
      "1         0.0             0.0             0.0                0.0   \n",
      "2         0.0             0.0             0.0                0.0   \n",
      "3         0.0             0.0             0.0                0.0   \n",
      "4         0.0             0.0             0.0                0.0   \n",
      "\n",
      "   _number_ apple  _number_ big  _number_ breakfast  _number_ car  \\\n",
      "0             0.0           0.0                 0.0           0.0   \n",
      "1             0.0           0.0                 0.0           0.0   \n",
      "2             0.0           0.0                 0.0           0.0   \n",
      "3             0.0           0.0                 0.0           0.0   \n",
      "4             0.0           0.0                 0.0           0.0   \n",
      "\n",
      "   _number_ cent  _number_ chance  ...  work nearby  work time  write review  \\\n",
      "0            0.0              0.0  ...          0.0        0.0           0.0   \n",
      "1            0.0              0.0  ...          0.0        0.0           0.0   \n",
      "2            0.0              0.0  ...          0.0        0.0           0.0   \n",
      "3            0.0              0.0  ...          0.0        0.0           0.0   \n",
      "4            0.0              0.0  ...          0.0        0.0           0.0   \n",
      "\n",
      "   wrong food  wrong order  wrong time  year old  yes mcdonalds  young lady  \\\n",
      "0         0.0          0.0         0.0       0.0            0.0         0.0   \n",
      "1         0.0          0.0         0.0       0.0            0.0         0.0   \n",
      "2         0.0          0.0         0.0       0.0            0.0         0.0   \n",
      "3         0.0          0.0         0.0       0.0            0.0         0.0   \n",
      "4         0.0          0.0         0.0       0.0            0.0         0.0   \n",
      "\n",
      "   zero star  \n",
      "0        0.0  \n",
      "1        0.0  \n",
      "2        0.0  \n",
      "3        0.0  \n",
      "4        0.0  \n",
      "\n",
      "[5 rows x 700 columns]\n"
     ]
    }
   ],
   "source": [
    "from sklearn.decomposition import NMF\n",
    "from sklearn.feature_extraction.text import TfidfVectorizer\n",
    "\n",
    "vectorizer = TfidfVectorizer(ngram_range=(2,2), max_features=700)\n",
    "\n",
    "\n",
    "reviews, reviews_terms = vectorizer.fit_transform(df.cleaned_review), vectorizer.get_feature_names()\n",
    "\n",
    "\n",
    "tf_idf = pd.DataFrame(reviews.toarray(), columns=reviews_terms)\n",
    "\n",
    "print(f\"TF-IDF: {tf_idf.shape}\")\n",
    "\n",
    "print(tf_idf.head(5))"
   ]
  },
  {
   "cell_type": "markdown",
   "id": "c4a11609",
   "metadata": {},
   "source": [
    "### Fit NMF Model"
   ]
  },
  {
   "cell_type": "code",
   "execution_count": 34,
   "id": "39b216fc",
   "metadata": {},
   "outputs": [
    {
     "name": "stdout",
     "output_type": "stream",
     "text": [
      "Original shape of X sports is (1525, 700)\n",
      "Decomposed W sports matrix is (1525, 7)\n",
      "Decomposed H sports matrix is (7, 700)\n"
     ]
    },
    {
     "name": "stderr",
     "output_type": "stream",
     "text": [
      "C:\\Users\\Rizabek\\anaconda3\\lib\\site-packages\\sklearn\\decomposition\\_nmf.py:312: FutureWarning: The 'init' value, when 'init=None' and n_components is less than n_samples and n_features, will be changed from 'nndsvd' to 'nndsvda' in 1.1 (renaming of 0.26).\n",
      "  warnings.warn((\"The 'init' value, when 'init=None' and \"\n"
     ]
    }
   ],
   "source": [
    "nmf = NMF(n_components=7)\n",
    "W_reviews = nmf.fit_transform(reviews)\n",
    "H_reviews = nmf.components_\n",
    "print(f\"Original shape of X sports is {reviews.shape}\")\n",
    "print(f\"Decomposed W sports matrix is {W_reviews.shape}\")\n",
    "print(f\"Decomposed H sports matrix is {H_reviews.shape}\")"
   ]
  },
  {
   "cell_type": "code",
   "execution_count": 35,
   "id": "a88351b9",
   "metadata": {},
   "outputs": [],
   "source": [
    "# code from classwork\n",
    "\n",
    "from typing import List\n",
    "import numpy as np\n",
    "\n",
    "def get_top_tf_idf_tokens_for_topic(H: np.array, feature_names: List[str], num_top_tokens: int = 5):\n",
    "  \"\"\"\n",
    "  Uses the H matrix (K components x M original features) to identify for each\n",
    "  topic the most frequent tokens.\n",
    "  \"\"\"\n",
    "  for topic, vector in enumerate(H):\n",
    "    print(f\"TOPIC {topic}\\n\")\n",
    "    total = vector.sum()\n",
    "    top_scores = vector.argsort()[::-1][:num_top_tokens]\n",
    "    token_names = list(map(lambda idx: feature_names[idx], top_scores))\n",
    "    strengths = list(map(lambda idx: vector[idx] / total, top_scores))\n",
    "    \n",
    "    for strength, token_name in zip(strengths, token_names):\n",
    "      print(f\"\\b{token_name} ({round(strength * 100, 1)}%)\\n\")\n",
    "    print(f\"=\" * 50)"
   ]
  },
  {
   "cell_type": "code",
   "execution_count": 36,
   "id": "2cd56351",
   "metadata": {},
   "outputs": [
    {
     "name": "stdout",
     "output_type": "stream",
     "text": [
      "TOPIC 0\n",
      "\n",
      "\b_number_ _number_ (16.0%)\n",
      "\n",
      "\b_number_ time (5.2%)\n",
      "\n",
      "\b_number_ star (2.1%)\n",
      "\n",
      "\border wrong (1.4%)\n",
      "\n",
      "\bmc donald (1.4%)\n",
      "\n",
      "==================================================\n",
      "TOPIC 1\n",
      "\n",
      "\bbad mcdonalds (22.4%)\n",
      "\n",
      "\bmess order (1.9%)\n",
      "\n",
      "\bfar bad (1.8%)\n",
      "\n",
      "\bhorrible service (1.7%)\n",
      "\n",
      "\border wrong (1.5%)\n",
      "\n",
      "==================================================\n",
      "TOPIC 2\n",
      "\n",
      "\bcustomer service (17.4%)\n",
      "\n",
      "\bbad customer (4.2%)\n",
      "\n",
      "\border wrong (1.5%)\n",
      "\n",
      "\bterrible customer (1.2%)\n",
      "\n",
      "\bavoid place (1.1%)\n",
      "\n",
      "==================================================\n",
      "TOPIC 3\n",
      "\n",
      "\bfast food (15.9%)\n",
      "\n",
      "\bfood place (2.1%)\n",
      "\n",
      "\bfood restaurant (1.7%)\n",
      "\n",
      "\bfood fast (1.5%)\n",
      "\n",
      "\blate night (1.5%)\n",
      "\n",
      "==================================================\n",
      "TOPIC 4\n",
      "\n",
      "\b_number_ minute (13.9%)\n",
      "\n",
      "\bwait _number_ (7.1%)\n",
      "\n",
      "\bminute order (1.7%)\n",
      "\n",
      "\bminute drivethrough (1.5%)\n",
      "\n",
      "\bminute food (1.3%)\n",
      "\n",
      "==================================================\n",
      "TOPIC 5\n",
      "\n",
      "\b_cur_ _number_ (10.7%)\n",
      "\n",
      "\bbig mac (3.5%)\n",
      "\n",
      "\b_number_ hour (3.2%)\n",
      "\n",
      "\bchicken nugget (1.6%)\n",
      "\n",
      "\bparking lot (1.3%)\n",
      "\n",
      "==================================================\n",
      "TOPIC 6\n",
      "\n",
      "\bice cream (21.7%)\n",
      "\n",
      "\bcream machine (4.7%)\n",
      "\n",
      "\bcream cone (4.4%)\n",
      "\n",
      "\blook like (3.2%)\n",
      "\n",
      "\bmc donald (2.6%)\n",
      "\n",
      "==================================================\n"
     ]
    }
   ],
   "source": [
    "get_top_tf_idf_tokens_for_topic(H_reviews, tf_idf.columns.tolist(), 5)"
   ]
  },
  {
   "cell_type": "code",
   "execution_count": 37,
   "id": "4cbea5ba",
   "metadata": {},
   "outputs": [],
   "source": [
    "import numpy as np\n",
    "def get_top_documents_for_each_topic(W: np.array, documents: List[str], num_docs: int = 5):\n",
    "    sorted_docs = W.argsort(axis=0)[::-1]\n",
    "    top_docs = sorted_docs[:num_docs].T\n",
    "    per_document_totals = W.sum(axis=1)\n",
    "    for topic, top_documents_for_topic in enumerate(top_docs):\n",
    "        print(f\"Topic {topic}\")\n",
    "        for doc in top_documents_for_topic:\n",
    "            score = W[doc][topic]\n",
    "            percent_about_topic = round(score / per_document_totals[doc] * 100, 1)\n",
    "            print(f\"{percent_about_topic}%\", documents[doc])\n",
    "            print(\"=\" * 50)"
   ]
  },
  {
   "cell_type": "code",
   "execution_count": 38,
   "id": "d34abb8f",
   "metadata": {
    "scrolled": true
   },
   "outputs": [
    {
     "name": "stdout",
     "output_type": "stream",
     "text": [
      "Topic 0\n",
      "100.0% this mcdonald's is poorly ran. they always cean the bathrooms from 7:30 to 8:15 am . when they are busy. today my little girl 41/2 needed to go potty . i told the lady , that spoke very little english that my little had to go potty very bad . she just said sorry . we had to go to subway . i yes you guess right . my little girl did not make it in time :( they can kiss it . we ill not be back and we will tell everybody not to go to this loction\n",
      "==================================================\n",
      "100.0% do not go in. walk across the street & get a day old, shriveled up hot dog from the 7-11. just take my word for it.\n",
      "==================================================\n",
      "100.0% this location has the new strawberry creme pies. the healthscore is a 93 as of 3/26/12.the drive thru cashier was really nice, but my fries were far too crispy too be any good.\n",
      "==================================================\n",
      "100.0% walked by tonight on my neighborhood watch walk and there was a lady standing by the drive through speaker asking for $$.feb. 16, 2011 7:10pm\n",
      "==================================================\n",
      "63.4% i star for the food. my drive-thru experience at 9:40ish pm 12/08/14 was -4. just because you're a fast food place, that doesn't mean you don't greet customers. a \"hello good evening.\" or \"sorry for the wait,\" something that lets me feel a lil better for spending my hard earned cash at this establishment! anyone that works retail knows how much customer sevice is pushed. management at this mcdonalds should consider retraining & teach these employees the basics. working with the public, being a cashier isn't easy, you deal with unsavory people with crappier attitudes sometimes. but, you still want your customers to leave happier, not upset.\n",
      "==================================================\n",
      "Topic 1\n",
      "100.0% worst! even at 2am fries so hard they break teeth everything's salty and takes forever. .... fahhhlat sodas wtf this one has a special place in worst mcdonald's ever\n",
      "==================================================\n",
      "100.0% worst mcdonalds ever!!i don't understand why the promotional signs are always in spanish and not in english. they should be in both languages or just english, unless the owner is racist and doesn't want english speaking people at the events.\n",
      "==================================================\n",
      "100.0% the worst mcdonalds ever. complete chaos. the prices are higher than the average and they don't have all of the regular items like lattes or fraps. the staff seems to be uninterested in taking or completing your order. it is as if they are aware that you are pretty much at their mercy.\n",
      "==================================================\n",
      "100.0% worst mcdonalds store. all employees are not happy, not enthusiastic to work. the cashier was not even smiling. they should should just call in sick if they are not happy to work.\n",
      "==================================================\n",
      "100.0% continues to be the worst mcdonalds i've ever been to.just stopped for breakfast the employees couldn't move any slower if it were humanly possible an extremely discourteous.. i just don't understand how this place stays in business.\n",
      "==================================================\n",
      "Topic 2\n",
      "100.0% the food is up to par with other mcdonald's but the afternoon staff is young and inexperienced. they are not very attentive and don't really care about good customer service.mediocre spot.\n",
      "==================================================\n",
      "100.0% two all beef patties special sauce lettuce cheese pickles onions on a sesame seed bun?all that and great customer service. the manager is all over his team here, making this a remarkably friendly mcd's.\n",
      "==================================================\n",
      "100.0% when it's busy they shouldn't be using only 1 register, other than that they have an okay customer service.\n",
      "==================================================\n",
      "100.0% worst customer service at thus location..the cashier vera not polite no smile no thank you no have a nice day..manager same thing\n",
      "==================================================\n",
      "100.0% sorry, am i bothering you? worst customer service i've ever received, anywhere. this manager should be fired, along with everyone working the registers.  sorry excise for human beings. pathetic. seen several health code violations while i was here. shall report those pronto. gracious.\n",
      "==================================================\n",
      "Topic 3\n",
      "100.0% i'm not a fan of fast food health risks but i still eat the occasional burger when i am in a hurry. this mcdonald's is always fast and reliable and for that i say, \"thank you mcdonalds!\"\n",
      "==================================================\n",
      "100.0% i was craving fast food - hadn't had it in weeks - so i decided to try this mcdonald's on my lunch break. the food sucked. the nuggets had no taste. grease was dripping from my fries. the ice machine was out of ice. a homeless man was walking around the store begging for money. i think i'm going back to my non-mcdonald's/non-fast food ways.\n",
      "==================================================\n",
      "100.0% i'm not crazy about this mcdonald's. this is primarily because they are so slow. my gosh what exactly is the hold up? it's fast food people. also, this morning, i guess the worker thought his mic was off, but it wasn't. i now know that he is trying to get as many hours as possible because he needs money bad. spread the word. anyway, this location is on a little access road and you have to go back the way you came because there is no exit from it at the other end. it would have helped if there was one. so, in the end i think i'll avoid this location and find another. this should be easy as there is no shortage of mickey d's in this piece.\n",
      "==================================================\n",
      "100.0% clean inside and out, quick and polite service, tasty latte. i noticed everyone seemed to be getting along and were dressed in clean uniforms. that's important for fast food.\n",
      "==================================================\n",
      "100.0% i usually eat breakfast here when im flying out. even though its fast food. breakfast comes out hot and fast, polite staff, and everytime i come i see lil wayne he works there.\n",
      "==================================================\n",
      "Topic 4\n",
      "100.0% i'm a mclover, and i had no problemwith the workers. but i have a problem waiting more than 30 minutes for my cheeseburger. they weren't even busy! this was my first and last time at this location.\n",
      "==================================================\n",
      "100.0% i've been waiting 15 minutes for oatmeal omg this is crazy i had to walk in and it's still not ready\n",
      "==================================================\n",
      "100.0% they have signs posted telling you that you are only allowed 30 minutes to consume your food and then you must vacate... that seems a bit pushy.\n",
      "==================================================\n",
      "99.7% i dont mind fresh and hot...but when you have to wait 15 minutes to order and another 15 minutes to receive the order plus bad attitude....not a good mixtry two cashiers when you got 4 people or more in one line...that would cut the first 15 minutes\n",
      "==================================================\n",
      "100.0% drive thru is terrible. waited over 20 minutes before getting my food. perfect example of what lack of training will do to a business. will never stop at this location again.\n",
      "==================================================\n",
      "Topic 5\n",
      "100.0% all i can say is this is the only mcdonalds that charges you $1.20 for substituting sausage for bacon on the big breakfast. all they give you is one and a half slices!!\n",
      "==================================================\n",
      "100.0% people... its mc donalds! stop taking it so seriously. don't like the fries, ask for fresh ones. viola! you'll have them in a few minutes. i love goilng there, i get myself a side salad or a mcdouble (with mac sauce, shreadded lettuce, minus ketchup and mustard, $1.45 instead of the big mac price) and the kids a 10 piece chicken nugget meal. under $7 for the three of us to eat and they can play and play and play until they burn out. they always knock the hell out for the night when i get home... worth more than $7 if you ask me! eat at home and have a parfait, lets the kids play for $1. good budget eat & play place!\n",
      "==================================================\n",
      "100.0% a first for the gf and i - a visit to mcdonald's ! surprisingly, out of the blue, the gf was recovering from the flu and said she was craving mcdonald's french fries. before i could get out the door to make a mickie-d run the gf yells out asking for a filet of fish, \" anything else ? \" , she calls out for a chocolate shake, too. yep, i guess she's feeling better !so i order:large fries - $2.09chocolate shake - $2.79filet of fish - $3.7920 piece chicken nuggets - $4.99diet coke - $1.00my first thought - dang, mickie d's ain't all that cheap, $3.79 for a filet of fish ?! seems high to me.the taste ? holy cow - some of the worst food we've had in a very long time ! my guess is the nuggets were sitting out for several hours - we ate 4 of them and stopped. the fries were limpy, wimpy, limpy. the filet of fish was ok at best. shake was ok. this is a reminder why the only reason i hit mcdonald's is for a soda - best value and basically a safe bet !\n",
      "==================================================\n",
      "64.6% out of the thousands of restaurants in vegas, i had to pick a mcdonalds...well, its a cheap eat. its right across the sahara hotel and its design is like one of those classic type mcdonalds back in the 50s, just like scott d. said below. there is nothing special about it. i had gone through the drive-thru at 11:30pm. i was a little scared since there was people playing music loud and just hanging around suspiciously. i had to wait 5-7 minutes for the lady to get back to me on the speaker. it wasn't even crowded inside.anyways, i ordered 2 mcdoubles ($1 each), 2 hot n' spicy ($1 each), 2 bottle water ($1 each), and 2 apple pies (2 for $1), and a large iced tea ($1 each no matter of the size or type of drink). my total was $9.50.nothing special about this place besides the classic car who probably has been waiting for service since forever. oh well, what can you do in the city of sin?!have fun here and keep yelping!!\n",
      "==================================================\n",
      "99.8% i like this mcdonalds location, well not really. i just go when i am near the bars along here and just go here with someone. i remember one time a girl i was with in the 3 sheets saloon bar was just dying for a mcdonalds kids meal and i said okay here you go. she really got so excited like she was a kid to get whatever $1.50 value toy they put in there. sometimes they do have deals like one big mac and a medium fries for only $5. it is more expensive if you order separately.\n",
      "==================================================\n",
      "Topic 6\n",
      "100.0% how do you screw up ice-cream? come here for an education!\n",
      "==================================================\n",
      "100.0% i rarely go to mcdonalds but one day i was thinking about the chocolate dipped ice cream comes i used to get as a kid and i decided to stop by and get one. not only did they not have them but when i compared their menu to the corporate menu, i realized they don't have many of the items that are supposed to be part of the standard menu.\n",
      "==================================================\n",
      "88.9% walked into this place for the first time to get an ice cream cone while my wife shopped at nearby pet store. the older lady wearing glasses behind the counter asked me if i wanted it to-go, \"to-go\" ? it's an ice cream cone. anyway i said to-go, this lady then gave me the biggest yarn as she handed me my change, then i watched her drop some kind of plastic cup on to the floor, but didn't pick it up right away. she looked like she didn't want to be there at all. i watched her prepare my ice cream cone, then she decided to pickup that cup she dropped on the floor earlier, what gets me is the way she picked it up, looked like as if she was picking up a 400 lbs weight at the gym. then, as she was handing me my ice cream she says to me \"welcome\", \"welcome\" for what? i haven't said my thank you yet !, as if she was doing me a big favor. i grewup in japan where a customer service is probably the best in the world so maybe i'm little too critical. but i do know one thing, if this was a mcdonalds in japan, she be so fired !\n",
      "==================================================\n",
      "85.4% stopped here one day because i had witnessed about five men standing at a four-way-stop asking for food and this was the fastest and closest establishment to me.i should have gone somewhere else. pro:--- two stars for the sweet high schooler who took my order. he was very patient with me deciding on what all i needed to get and very kind.con:--- it's june in texas and you know what that means... heat! oh, who am i kidding, it's always hot but on june 8th, it was a little bit hotter! after waiting close to 15 minutes in the drive-thru line i decided to get the homeless men some sundaes but to my surprise, as soon as i ordered them, the high schooler tells me they are out of ice cream. \"out of ice cream?! what!\" long story short, i ended up getting them an array of burgers, mickey d's golden, crispy fries and some drinks! i really wanted to buy them ice cream. get it together mcdonald's - it wasn't even \"technically\" summer yet and you were out of ice cream before noon. pssh!\n",
      "==================================================\n",
      "100.0% every time i go their ice cream machine is down. it's a hang out for all the kids in the neighborhood. this establishment including terribles chevron connected to it, does not seem to care what goes on in or around their business. low class for the area they are in.\n",
      "==================================================\n"
     ]
    }
   ],
   "source": [
    "get_top_documents_for_each_topic(W_reviews, df.review.tolist(), num_docs=5)"
   ]
  },
  {
   "cell_type": "markdown",
   "id": "2faca053",
   "metadata": {},
   "source": [
    "### LSA (Latent Semantic Analysis)"
   ]
  },
  {
   "cell_type": "code",
   "execution_count": 39,
   "id": "94f88a06",
   "metadata": {},
   "outputs": [],
   "source": [
    "from sklearn.decomposition import TruncatedSVD\n",
    "K = 10\n",
    "\n",
    "svd = TruncatedSVD(n_components=K)\n",
    "U = svd.fit_transform(reviews)\n",
    "V_star = svd.components_"
   ]
  },
  {
   "cell_type": "code",
   "execution_count": 40,
   "id": "004a179f",
   "metadata": {},
   "outputs": [
    {
     "data": {
      "text/plain": [
       "array([0.00771007, 0.01172786, 0.01001223, 0.01002911, 0.00964695,\n",
       "       0.00892909, 0.00761263, 0.00737135, 0.00674045, 0.00677413])"
      ]
     },
     "execution_count": 40,
     "metadata": {},
     "output_type": "execute_result"
    }
   ],
   "source": [
    "svd.explained_variance_"
   ]
  },
  {
   "cell_type": "code",
   "execution_count": 41,
   "id": "72e9de85",
   "metadata": {
    "scrolled": true
   },
   "outputs": [
    {
     "name": "stdout",
     "output_type": "stream",
     "text": [
      "Topic 0\n",
      "100.0% this mcdonald's is poorly ran. they always cean the bathrooms from 7:30 to 8:15 am . when they are busy. today my little girl 41/2 needed to go potty . i told the lady , that spoke very little english that my little had to go potty very bad . she just said sorry . we had to go to subway . i yes you guess right . my little girl did not make it in time :( they can kiss it . we ill not be back and we will tell everybody not to go to this loction\n",
      "==================================================\n",
      "100.0% do not go in. walk across the street & get a day old, shriveled up hot dog from the 7-11. just take my word for it.\n",
      "==================================================\n",
      "100.0% this location has the new strawberry creme pies. the healthscore is a 93 as of 3/26/12.the drive thru cashier was really nice, but my fries were far too crispy too be any good.\n",
      "==================================================\n",
      "100.0% walked by tonight on my neighborhood watch walk and there was a lady standing by the drive through speaker asking for $$.feb. 16, 2011 7:10pm\n",
      "==================================================\n",
      "63.4% i star for the food. my drive-thru experience at 9:40ish pm 12/08/14 was -4. just because you're a fast food place, that doesn't mean you don't greet customers. a \"hello good evening.\" or \"sorry for the wait,\" something that lets me feel a lil better for spending my hard earned cash at this establishment! anyone that works retail knows how much customer sevice is pushed. management at this mcdonalds should consider retraining & teach these employees the basics. working with the public, being a cashier isn't easy, you deal with unsavory people with crappier attitudes sometimes. but, you still want your customers to leave happier, not upset.\n",
      "==================================================\n",
      "Topic 1\n",
      "100.0% worst! even at 2am fries so hard they break teeth everything's salty and takes forever. .... fahhhlat sodas wtf this one has a special place in worst mcdonald's ever\n",
      "==================================================\n",
      "100.0% worst mcdonalds ever!!i don't understand why the promotional signs are always in spanish and not in english. they should be in both languages or just english, unless the owner is racist and doesn't want english speaking people at the events.\n",
      "==================================================\n",
      "100.0% the worst mcdonalds ever. complete chaos. the prices are higher than the average and they don't have all of the regular items like lattes or fraps. the staff seems to be uninterested in taking or completing your order. it is as if they are aware that you are pretty much at their mercy.\n",
      "==================================================\n",
      "100.0% worst mcdonalds store. all employees are not happy, not enthusiastic to work. the cashier was not even smiling. they should should just call in sick if they are not happy to work.\n",
      "==================================================\n",
      "100.0% continues to be the worst mcdonalds i've ever been to.just stopped for breakfast the employees couldn't move any slower if it were humanly possible an extremely discourteous.. i just don't understand how this place stays in business.\n",
      "==================================================\n",
      "Topic 2\n",
      "100.0% the food is up to par with other mcdonald's but the afternoon staff is young and inexperienced. they are not very attentive and don't really care about good customer service.mediocre spot.\n",
      "==================================================\n",
      "100.0% two all beef patties special sauce lettuce cheese pickles onions on a sesame seed bun?all that and great customer service. the manager is all over his team here, making this a remarkably friendly mcd's.\n",
      "==================================================\n",
      "100.0% when it's busy they shouldn't be using only 1 register, other than that they have an okay customer service.\n",
      "==================================================\n",
      "100.0% worst customer service at thus location..the cashier vera not polite no smile no thank you no have a nice day..manager same thing\n",
      "==================================================\n",
      "100.0% sorry, am i bothering you? worst customer service i've ever received, anywhere. this manager should be fired, along with everyone working the registers.  sorry excise for human beings. pathetic. seen several health code violations while i was here. shall report those pronto. gracious.\n",
      "==================================================\n",
      "Topic 3\n",
      "100.0% i'm not a fan of fast food health risks but i still eat the occasional burger when i am in a hurry. this mcdonald's is always fast and reliable and for that i say, \"thank you mcdonalds!\"\n",
      "==================================================\n",
      "100.0% i was craving fast food - hadn't had it in weeks - so i decided to try this mcdonald's on my lunch break. the food sucked. the nuggets had no taste. grease was dripping from my fries. the ice machine was out of ice. a homeless man was walking around the store begging for money. i think i'm going back to my non-mcdonald's/non-fast food ways.\n",
      "==================================================\n",
      "100.0% i'm not crazy about this mcdonald's. this is primarily because they are so slow. my gosh what exactly is the hold up? it's fast food people. also, this morning, i guess the worker thought his mic was off, but it wasn't. i now know that he is trying to get as many hours as possible because he needs money bad. spread the word. anyway, this location is on a little access road and you have to go back the way you came because there is no exit from it at the other end. it would have helped if there was one. so, in the end i think i'll avoid this location and find another. this should be easy as there is no shortage of mickey d's in this piece.\n",
      "==================================================\n",
      "100.0% clean inside and out, quick and polite service, tasty latte. i noticed everyone seemed to be getting along and were dressed in clean uniforms. that's important for fast food.\n",
      "==================================================\n",
      "100.0% i usually eat breakfast here when im flying out. even though its fast food. breakfast comes out hot and fast, polite staff, and everytime i come i see lil wayne he works there.\n",
      "==================================================\n",
      "Topic 4\n",
      "100.0% i'm a mclover, and i had no problemwith the workers. but i have a problem waiting more than 30 minutes for my cheeseburger. they weren't even busy! this was my first and last time at this location.\n",
      "==================================================\n",
      "100.0% i've been waiting 15 minutes for oatmeal omg this is crazy i had to walk in and it's still not ready\n",
      "==================================================\n",
      "100.0% they have signs posted telling you that you are only allowed 30 minutes to consume your food and then you must vacate... that seems a bit pushy.\n",
      "==================================================\n",
      "99.7% i dont mind fresh and hot...but when you have to wait 15 minutes to order and another 15 minutes to receive the order plus bad attitude....not a good mixtry two cashiers when you got 4 people or more in one line...that would cut the first 15 minutes\n",
      "==================================================\n",
      "100.0% drive thru is terrible. waited over 20 minutes before getting my food. perfect example of what lack of training will do to a business. will never stop at this location again.\n",
      "==================================================\n",
      "Topic 5\n",
      "100.0% all i can say is this is the only mcdonalds that charges you $1.20 for substituting sausage for bacon on the big breakfast. all they give you is one and a half slices!!\n",
      "==================================================\n",
      "100.0% people... its mc donalds! stop taking it so seriously. don't like the fries, ask for fresh ones. viola! you'll have them in a few minutes. i love goilng there, i get myself a side salad or a mcdouble (with mac sauce, shreadded lettuce, minus ketchup and mustard, $1.45 instead of the big mac price) and the kids a 10 piece chicken nugget meal. under $7 for the three of us to eat and they can play and play and play until they burn out. they always knock the hell out for the night when i get home... worth more than $7 if you ask me! eat at home and have a parfait, lets the kids play for $1. good budget eat & play place!\n",
      "==================================================\n",
      "100.0% a first for the gf and i - a visit to mcdonald's ! surprisingly, out of the blue, the gf was recovering from the flu and said she was craving mcdonald's french fries. before i could get out the door to make a mickie-d run the gf yells out asking for a filet of fish, \" anything else ? \" , she calls out for a chocolate shake, too. yep, i guess she's feeling better !so i order:large fries - $2.09chocolate shake - $2.79filet of fish - $3.7920 piece chicken nuggets - $4.99diet coke - $1.00my first thought - dang, mickie d's ain't all that cheap, $3.79 for a filet of fish ?! seems high to me.the taste ? holy cow - some of the worst food we've had in a very long time ! my guess is the nuggets were sitting out for several hours - we ate 4 of them and stopped. the fries were limpy, wimpy, limpy. the filet of fish was ok at best. shake was ok. this is a reminder why the only reason i hit mcdonald's is for a soda - best value and basically a safe bet !\n",
      "==================================================\n",
      "64.6% out of the thousands of restaurants in vegas, i had to pick a mcdonalds...well, its a cheap eat. its right across the sahara hotel and its design is like one of those classic type mcdonalds back in the 50s, just like scott d. said below. there is nothing special about it. i had gone through the drive-thru at 11:30pm. i was a little scared since there was people playing music loud and just hanging around suspiciously. i had to wait 5-7 minutes for the lady to get back to me on the speaker. it wasn't even crowded inside.anyways, i ordered 2 mcdoubles ($1 each), 2 hot n' spicy ($1 each), 2 bottle water ($1 each), and 2 apple pies (2 for $1), and a large iced tea ($1 each no matter of the size or type of drink). my total was $9.50.nothing special about this place besides the classic car who probably has been waiting for service since forever. oh well, what can you do in the city of sin?!have fun here and keep yelping!!\n",
      "==================================================\n",
      "99.8% i like this mcdonalds location, well not really. i just go when i am near the bars along here and just go here with someone. i remember one time a girl i was with in the 3 sheets saloon bar was just dying for a mcdonalds kids meal and i said okay here you go. she really got so excited like she was a kid to get whatever $1.50 value toy they put in there. sometimes they do have deals like one big mac and a medium fries for only $5. it is more expensive if you order separately.\n",
      "==================================================\n",
      "Topic 6\n",
      "100.0% how do you screw up ice-cream? come here for an education!\n",
      "==================================================\n",
      "100.0% i rarely go to mcdonalds but one day i was thinking about the chocolate dipped ice cream comes i used to get as a kid and i decided to stop by and get one. not only did they not have them but when i compared their menu to the corporate menu, i realized they don't have many of the items that are supposed to be part of the standard menu.\n",
      "==================================================\n",
      "88.9% walked into this place for the first time to get an ice cream cone while my wife shopped at nearby pet store. the older lady wearing glasses behind the counter asked me if i wanted it to-go, \"to-go\" ? it's an ice cream cone. anyway i said to-go, this lady then gave me the biggest yarn as she handed me my change, then i watched her drop some kind of plastic cup on to the floor, but didn't pick it up right away. she looked like she didn't want to be there at all. i watched her prepare my ice cream cone, then she decided to pickup that cup she dropped on the floor earlier, what gets me is the way she picked it up, looked like as if she was picking up a 400 lbs weight at the gym. then, as she was handing me my ice cream she says to me \"welcome\", \"welcome\" for what? i haven't said my thank you yet !, as if she was doing me a big favor. i grewup in japan where a customer service is probably the best in the world so maybe i'm little too critical. but i do know one thing, if this was a mcdonalds in japan, she be so fired !\n",
      "==================================================\n",
      "85.4% stopped here one day because i had witnessed about five men standing at a four-way-stop asking for food and this was the fastest and closest establishment to me.i should have gone somewhere else. pro:--- two stars for the sweet high schooler who took my order. he was very patient with me deciding on what all i needed to get and very kind.con:--- it's june in texas and you know what that means... heat! oh, who am i kidding, it's always hot but on june 8th, it was a little bit hotter! after waiting close to 15 minutes in the drive-thru line i decided to get the homeless men some sundaes but to my surprise, as soon as i ordered them, the high schooler tells me they are out of ice cream. \"out of ice cream?! what!\" long story short, i ended up getting them an array of burgers, mickey d's golden, crispy fries and some drinks! i really wanted to buy them ice cream. get it together mcdonald's - it wasn't even \"technically\" summer yet and you were out of ice cream before noon. pssh!\n",
      "==================================================\n",
      "100.0% every time i go their ice cream machine is down. it's a hang out for all the kids in the neighborhood. this establishment including terribles chevron connected to it, does not seem to care what goes on in or around their business. low class for the area they are in.\n",
      "==================================================\n"
     ]
    }
   ],
   "source": [
    "get_top_documents_for_each_topic(W_reviews, df.review.tolist(), num_docs=5)"
   ]
  },
  {
   "cell_type": "code",
   "execution_count": 42,
   "id": "14450184",
   "metadata": {
    "scrolled": false
   },
   "outputs": [
    {
     "name": "stdout",
     "output_type": "stream",
     "text": [
      "TOPIC 0\n",
      "\n",
      "\b_number_ minute (3.1%)\n",
      "\n",
      "\b_number_ _number_ (2.3%)\n",
      "\n",
      "\bfast food (2.2%)\n",
      "\n",
      "\bbad mcdonalds (2.2%)\n",
      "\n",
      "\b_cur_ _number_ (1.7%)\n",
      "\n",
      "==================================================\n",
      "TOPIC 1\n",
      "\n",
      "\bbad mcdonalds (-179.3%)\n",
      "\n",
      "\bcustomer service (-14.2%)\n",
      "\n",
      "\bfar bad (-14.0%)\n",
      "\n",
      "\bmess order (-13.7%)\n",
      "\n",
      "\bhorrible service (-12.6%)\n",
      "\n",
      "==================================================\n",
      "TOPIC 2\n",
      "\n",
      "\bcustomer service (21.8%)\n",
      "\n",
      "\bbad customer (5.3%)\n",
      "\n",
      "\b_cur_ _number_ (3.8%)\n",
      "\n",
      "\bbig mac (2.4%)\n",
      "\n",
      "\border wrong (2.0%)\n",
      "\n",
      "==================================================\n",
      "TOPIC 3\n",
      "\n",
      "\bfast food (184.1%)\n",
      "\n",
      "\bcustomer service (78.5%)\n",
      "\n",
      "\b_number_ minute (24.8%)\n",
      "\n",
      "\bwait _number_ (22.4%)\n",
      "\n",
      "\bfood restaurant (20.0%)\n",
      "\n",
      "==================================================\n",
      "TOPIC 4\n",
      "\n",
      "\b_number_ minute (-19.9%)\n",
      "\n",
      "\bcustomer service (-13.4%)\n",
      "\n",
      "\bwait _number_ (-9.2%)\n",
      "\n",
      "\bbad customer (-3.1%)\n",
      "\n",
      "\bminute order (-2.7%)\n",
      "\n",
      "==================================================\n",
      "TOPIC 5\n",
      "\n",
      "\b_cur_ _number_ (48.4%)\n",
      "\n",
      "\b_number_ hour (17.9%)\n",
      "\n",
      "\b_number_ minute (11.8%)\n",
      "\n",
      "\bbig mac (11.1%)\n",
      "\n",
      "\bwait _number_ (6.2%)\n",
      "\n",
      "==================================================\n",
      "TOPIC 6\n",
      "\n",
      "\bice cream (21.9%)\n",
      "\n",
      "\blook like (5.3%)\n",
      "\n",
      "\bcream machine (4.8%)\n",
      "\n",
      "\bcream cone (4.2%)\n",
      "\n",
      "\bbig mac (3.7%)\n",
      "\n",
      "==================================================\n",
      "TOPIC 7\n",
      "\n",
      "\bbig mac (13.8%)\n",
      "\n",
      "\b_number_ star (7.8%)\n",
      "\n",
      "\bchicken nugget (4.4%)\n",
      "\n",
      "\border wrong (4.4%)\n",
      "\n",
      "\blook like (3.0%)\n",
      "\n",
      "==================================================\n",
      "TOPIC 8\n",
      "\n",
      "\b_number_ star (14.4%)\n",
      "\n",
      "\b_number_ hour (14.2%)\n",
      "\n",
      "\blate night (11.2%)\n",
      "\n",
      "\bopen _number_ (5.4%)\n",
      "\n",
      "\bhour drivethrough (3.6%)\n",
      "\n",
      "==================================================\n",
      "TOPIC 9\n",
      "\n",
      "\b_number_ star (355.8%)\n",
      "\n",
      "\b_cur_ _number_ (109.8%)\n",
      "\n",
      "\bice cream (82.6%)\n",
      "\n",
      "\bdollar menu (67.1%)\n",
      "\n",
      "\bmcdonalds _number_ (61.5%)\n",
      "\n",
      "==================================================\n"
     ]
    }
   ],
   "source": [
    "get_top_tf_idf_tokens_for_topic(V_star, tf_idf.columns.tolist(), 5)"
   ]
  },
  {
   "cell_type": "markdown",
   "id": "1a06356f",
   "metadata": {},
   "source": [
    "# Part II. multi-label classification"
   ]
  },
  {
   "cell_type": "code",
   "execution_count": 48,
   "id": "26795431",
   "metadata": {},
   "outputs": [],
   "source": [
    "# loading datasets\n",
    "df_test = pd.read_csv('https://raw.githubusercontent.com/ychennay/dso-560-nlp-text-analytics/main/datasets/emotions/test.txt', header=None,names=['sentence', 'emotion'], delimiter=\";\")\n",
    "df_train = pd.read_csv('https://raw.githubusercontent.com/ychennay/dso-560-nlp-text-analytics/main/datasets/emotions/train.txt', header=None,names=['sentence', 'emotion'], delimiter=\";\")\n",
    "df_val = pd.read_csv('https://raw.githubusercontent.com/ychennay/dso-560-nlp-text-analytics/main/datasets/emotions/val.txt', header=None,names=['sentence', 'emotion'], delimiter=\";\")\n",
    "df_test['df_type'] = 'test'\n",
    "df_train['df_type'] = 'train'\n",
    "df_val['df_type'] = 'train'\n",
    "df = pd.concat([df_train, df_test, df_val])"
   ]
  },
  {
   "cell_type": "code",
   "execution_count": 50,
   "id": "0bc565fd",
   "metadata": {},
   "outputs": [
    {
     "name": "stdout",
     "output_type": "stream",
     "text": [
      "(20000, 4)\n",
      "['sadness' 'anger' 'love' 'surprise' 'fear' 'joy']\n"
     ]
    },
    {
     "data": {
      "image/png": "[encoded data removed]",
      "text/plain": [
       "<Figure size 432x288 with 1 Axes>"
      ]
     },
     "metadata": {
      "needs_background": "light"
     },
     "output_type": "display_data"
    }
   ],
   "source": [
    "print(df.shape)\n",
    "df.emotion.hist()\n",
    "print(df_train.emotion.unique())"
   ]
  },
  {
   "cell_type": "markdown",
   "id": "7fa8d001",
   "metadata": {},
   "source": [
    "## Text preprocessing"
   ]
  },
  {
   "cell_type": "code",
   "execution_count": 45,
   "id": "c83db667",
   "metadata": {},
   "outputs": [],
   "source": [
    "import en_core_web_sm\n",
    "import spacy\n",
    "from scipy.spatial.distance import cosine\n",
    "import spacy\n",
    "\n",
    "# load the language model, but we disable the ner (named entity recognition) and parser (dependency parser)\n",
    "# since we don't need them for our use case to speed things up\n",
    "nlp = spacy.load('en_core_web_md', disable = ['ner', 'parser'])"
   ]
  },
  {
   "cell_type": "code",
   "execution_count": 46,
   "id": "3d59a8ed",
   "metadata": {},
   "outputs": [],
   "source": [
    "# create function for lemmitization\n",
    "def lemmatize(text):\n",
    "    spacy_doc = nlp(text)\n",
    "    review = []\n",
    "    for token in spacy_doc:\n",
    "      if token.is_stop: # don't include stop words.The Spacy library has a default list of 326 stopwords\n",
    "        continue\n",
    "      else:\n",
    "        review.append(token.lemma_)\n",
    "        lemmatized = \" \".join(review)\n",
    "    return lemmatized"
   ]
  },
  {
   "cell_type": "code",
   "execution_count": 49,
   "id": "abcbf111",
   "metadata": {},
   "outputs": [],
   "source": [
    "# lemmitize\n",
    "df['cleaned_sentence'] = df['sentence'].apply(lemmatize)"
   ]
  },
  {
   "cell_type": "code",
   "execution_count": 51,
   "id": "07869f26",
   "metadata": {},
   "outputs": [
    {
     "name": "stdout",
     "output_type": "stream",
     "text": [
      "(20000, 4)\n"
     ]
    },
    {
     "data": {
      "text/plain": [
       "(18000, 4)"
      ]
     },
     "execution_count": 51,
     "metadata": {},
     "output_type": "execute_result"
    }
   ],
   "source": [
    "# checking the shape of df\n",
    "print(df.shape)\n",
    "df[df['df_type']=='train'].shape"
   ]
  },
  {
   "cell_type": "markdown",
   "id": "b8d84d21",
   "metadata": {},
   "source": [
    "## Create function for vectorizing and support vector classifier"
   ]
  },
  {
   "cell_type": "code",
   "execution_count": 72,
   "id": "1f81415d",
   "metadata": {},
   "outputs": [],
   "source": [
    "# creating function for Classifier\n",
    "from sklearn.svm import SVC\n",
    "from sklearn.metrics import confusion_matrix\n",
    "from sklearn.metrics import roc_auc_score\n",
    "from sklearn.metrics import f1_score\n",
    "\n",
    "def SVC_classifier(vectorizer):\n",
    "    # vectorizing\n",
    "    matrix = vectorizer.fit_transform(df.cleaned_sentence)\n",
    "    \n",
    "    #splitting dataset\n",
    "    X_train = matrix[df['df_type']=='train']\n",
    "    X_test = matrix[df['df_type']=='test']\n",
    "    \n",
    "    y_train = df.loc[df['df_type']=='train','emotion']\n",
    "    y_test = df.loc[df['df_type']=='test','emotion']\n",
    "    \n",
    "    # training the model\n",
    "    svm_model_linear = SVC(kernel = 'linear', C = 1, probability=True).fit(X_train, y_train)\n",
    "    \n",
    "    # make prediction on testing set \n",
    "    svm_predictions = svm_model_linear.predict(X_test)\n",
    "    \n",
    "    # calculate confusion matrix\n",
    "    print(confusion_matrix(y_test, svm_predictions))\n",
    "    \n",
    "    # calculate accuracy\n",
    "    print(f'Accuracy: {svm_model_linear.score(X_test, y_test)}')\n",
    "    \n",
    "    # calculate roc_auc\n",
    "    y_probabilities = svm_model_linear.predict_proba(X_train)\n",
    "    print(f'ROC_AUC: {roc_auc_score(y_train, y_probabilities, multi_class=\"ovo\")}')\n",
    "    \n",
    "    #F1 Score\n",
    "    print(f'{f1_score(y_test, svm_predictions, average=None)})"
   ]
  },
  {
   "cell_type": "markdown",
   "id": "d3c24a83",
   "metadata": {},
   "source": [
    "## Run SVC using CountVecorizer and TfIdfVectorizer"
   ]
  },
  {
   "cell_type": "code",
   "execution_count": 73,
   "id": "bfb8cc31",
   "metadata": {},
   "outputs": [
    {
     "name": "stdout",
     "output_type": "stream",
     "text": [
      "[[ 32   2 217   1  23   0]\n",
      " [  0  24 193   0   6   1]\n",
      " [  2   2 657   7  25   2]\n",
      " [  0   0 140   9  10   0]\n",
      " [  6   5 385   0 185   0]\n",
      " [  0   3  57   0   1   5]]\n",
      "Accuracy: 0.456\n",
      "ROC_AUC: 0.9991995264785775\n"
     ]
    }
   ],
   "source": [
    "vectorizer = CountVectorizer(ngram_range=(3, 3))\n",
    "SVC_classifier(vectorizer)"
   ]
  },
  {
   "cell_type": "code",
   "execution_count": 74,
   "id": "d0eb570e",
   "metadata": {},
   "outputs": [
    {
     "name": "stdout",
     "output_type": "stream",
     "text": [
      "[[177   3  56   2  37   0]\n",
      " [  8 161  29   1  23   2]\n",
      " [  5   3 617  19  46   5]\n",
      " [  2   1  73  67  16   0]\n",
      " [ 15  10  91   4 460   1]\n",
      " [  0  17  13   0  11  25]]\n",
      "Accuracy: 0.7535\n",
      "ROC_AUC: 0.9999560918213491\n"
     ]
    }
   ],
   "source": [
    "vectorizer = CountVectorizer(ngram_range=(2, 2))\n",
    "SVC_classifier(vectorizer)"
   ]
  },
  {
   "cell_type": "code",
   "execution_count": 84,
   "id": "f08686b8",
   "metadata": {},
   "outputs": [
    {
     "name": "stdout",
     "output_type": "stream",
     "text": [
      "[[148   2  78   0  47   0]\n",
      " [  7 148  41   0  26   2]\n",
      " [  1   1 643  13  35   2]\n",
      " [  0   0  92  53  14   0]\n",
      " [  7   4 111   0 459   0]\n",
      " [  0  14  27   0  11  14]]\n",
      "Accuracy: 0.7325\n",
      "ROC_AUC: 0.9994552221511444\n"
     ]
    }
   ],
   "source": [
    "# TfIdfVectorizer ngram (3,3)\n",
    "from sklearn.feature_extraction.text import TfidfVectorizer\n",
    "vectorizer = TfidfVectorizer(ngram_range=(2,2))\n",
    "SVC_classifier(vectorizer)"
   ]
  },
  {
   "cell_type": "code",
   "execution_count": 75,
   "id": "207f0f6e",
   "metadata": {},
   "outputs": [
    {
     "name": "stdout",
     "output_type": "stream",
     "text": [
      "[[148   2  78   0  47   0]\n",
      " [  7 148  41   0  26   2]\n",
      " [  1   1 643  13  35   2]\n",
      " [  0   0  92  53  14   0]\n",
      " [  7   4 111   0 459   0]\n",
      " [  0  14  27   0  11  14]]\n",
      "Accuracy: 0.7325\n",
      "ROC_AUC: 0.9994219469977658\n"
     ]
    }
   ],
   "source": [
    "# TfIdfVectorizer ngram (2,2)\n",
    "from sklearn.feature_extraction.text import TfidfVectorizer\n",
    "vectorizer = TfidfVectorizer(ngram_range=(2,2))\n",
    "SVC_classifier(vectorizer)"
   ]
  },
  {
   "cell_type": "markdown",
   "id": "9b0cb331",
   "metadata": {},
   "source": [
    "###  SV classification using Word2Rec"
   ]
  },
  {
   "cell_type": "code",
   "execution_count": 76,
   "id": "98be742d",
   "metadata": {},
   "outputs": [],
   "source": [
    "# get the word2vec embeddings for the processed text (the average of each token in the doc's word2vec embeddings)\n",
    "df_train['vectors'] = df_train.sentence.apply(lambda x: nlp(x).vector)\n",
    "df_test['vectors'] = df_test.sentence.apply(lambda x: nlp(x).vector)"
   ]
  },
  {
   "cell_type": "code",
   "execution_count": 77,
   "id": "a93d4882",
   "metadata": {},
   "outputs": [],
   "source": [
    "# create X and Y variables for training data\n",
    "X_train = np.array([vector for vector in df_train[\"vectors\"]])\n",
    "y_train = df_train[\"emotion\"]"
   ]
  },
  {
   "cell_type": "code",
   "execution_count": 78,
   "id": "a205b4b2",
   "metadata": {},
   "outputs": [],
   "source": [
    "# create X and Y variables for testing data\n",
    "X_test = np.array([vector for vector in df_test[\"vectors\"]])\n",
    "y_test = df_test[\"emotion\"]"
   ]
  },
  {
   "cell_type": "code",
   "execution_count": 79,
   "id": "986b7f96",
   "metadata": {},
   "outputs": [],
   "source": [
    "# training the model\n",
    "svm_model_linear = SVC(kernel = 'linear', C = 1, probability=True).fit(X_train, y_train)\n",
    "svm_predictions = svm_model_linear.predict(X_test)"
   ]
  },
  {
   "cell_type": "code",
   "execution_count": 80,
   "id": "fbd06f21",
   "metadata": {},
   "outputs": [
    {
     "data": {
      "text/plain": [
       "array([[111,   9,  61,   6,  86,   2],\n",
       "       [ 22,  97,  45,   2,  53,   5],\n",
       "       [ 22,  21, 549,  29,  69,   5],\n",
       "       [ 10,  10,  74,  43,  22,   0],\n",
       "       [ 43,  26, 111,   9, 386,   6],\n",
       "       [  3,  12,  23,   0,   9,  19]], dtype=int64)"
      ]
     },
     "execution_count": 80,
     "metadata": {},
     "output_type": "execute_result"
    }
   ],
   "source": [
    "# confusion matrix\n",
    "confusion_matrix(y_test, svm_predictions)"
   ]
  },
  {
   "cell_type": "code",
   "execution_count": 81,
   "id": "3d5f77f6",
   "metadata": {},
   "outputs": [
    {
     "data": {
      "text/plain": [
       "0.6025"
      ]
     },
     "execution_count": 81,
     "metadata": {},
     "output_type": "execute_result"
    }
   ],
   "source": [
    "# accuracy \n",
    "svm_model_linear.score(X_test, y_test)"
   ]
  },
  {
   "cell_type": "code",
   "execution_count": 82,
   "id": "a77e8a2c",
   "metadata": {},
   "outputs": [
    {
     "name": "stdout",
     "output_type": "stream",
     "text": [
      "ROC_AUC: 0.8749845090971197\n"
     ]
    }
   ],
   "source": [
    "y_probabilities = svm_model_linear.predict_proba(X_train)\n",
    "print(f'ROC_AUC: {roc_auc_score(y_train, y_probabilities, multi_class=\"ovo\")}')"
   ]
  },
  {
   "cell_type": "code",
   "execution_count": 83,
   "id": "1cfd6ad0",
   "metadata": {},
   "outputs": [
    {
     "data": {
      "text/plain": [
       "array([0.45679012, 0.48621554, 0.70474968, 0.34677419, 0.64013267,\n",
       "       0.36893204])"
      ]
     },
     "execution_count": 83,
     "metadata": {},
     "output_type": "execute_result"
    }
   ],
   "source": [
    "from sklearn.metrics import f1_score\n",
    "f1_score(y_test, svm_predictions, average=None)"
   ]
  }
 ],
 "metadata": {
  "kernelspec": {
   "display_name": "Python 3",
   "language": "python",
   "name": "python3"
  },
  "language_info": {
   "codemirror_mode": {
    "name": "ipython",
    "version": 3
   },
   "file_extension": ".py",
   "mimetype": "text/x-python",
   "name": "python",
   "nbconvert_exporter": "python",
   "pygments_lexer": "ipython3",
   "version": "3.8.8"
  }
 },
 "nbformat": 4,
 "nbformat_minor": 5
}
